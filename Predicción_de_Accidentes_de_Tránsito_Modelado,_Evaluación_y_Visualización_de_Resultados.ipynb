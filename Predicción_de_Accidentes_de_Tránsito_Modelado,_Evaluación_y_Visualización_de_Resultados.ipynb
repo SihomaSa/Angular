{
  "nbformat": 4,
  "nbformat_minor": 0,
  "metadata": {
    "colab": {
      "provenance": [],
      "authorship_tag": "ABX9TyOAmnT0rT5pD+w7w8q9VegN",
      "include_colab_link": true
    },
    "kernelspec": {
      "name": "python3",
      "display_name": "Python 3"
    },
    "language_info": {
      "name": "python"
    }
  },
  "cells": [
    {
      "cell_type": "markdown",
      "metadata": {
        "id": "view-in-github",
        "colab_type": "text"
      },
      "source": [
        "<a href=\"https://colab.research.google.com/github/SihomaSa/Angular/blob/main/Predicci%C3%B3n_de_Accidentes_de_Tr%C3%A1nsito_Modelado%2C_Evaluaci%C3%B3n_y_Visualizaci%C3%B3n_de_Resultados.ipynb\" target=\"_parent\"><img src=\"https://colab.research.google.com/assets/colab-badge.svg\" alt=\"Open In Colab\"/></a>"
      ]
    },
    {
      "cell_type": "code",
      "source": [
        "import pandas as pd\n",
        "\n",
        "# Cargar archivo\n",
        "file_path = \"/content/datos_combinados.csv\"\n",
        "\n",
        "# Detectar delimitador automáticamente\n",
        "df = pd.read_csv(file_path, sep=None, engine=\"python\", encoding=\"latin1\")\n",
        "\n",
        "# Asegurar que los nombres de columna no tienen espacios adicionales\n",
        "df.columns = df.columns.str.strip()\n",
        "\n",
        "# Lista de columnas a convertir\n",
        "fecha_columns = [\"F_INSPECCION\", \"FECHA_CORTE\", \"FECHA_CORTE1\", \"FECHA_ACC\", \"FECHA_PAPELETA\", \"FECHA_PAPELETA1\"]\n",
        "\n",
        "# Función para convertir formato AAAAMMDD a DD/MM/AAAA\n",
        "def convertir_fecha(valor):\n",
        "    if pd.isna(valor) or valor == \"\":  # Manejar valores nulos o vacíos\n",
        "        return None\n",
        "    try:\n",
        "        return pd.to_datetime(str(valor), format='%Y%m%d').strftime('%d/%m/%Y')\n",
        "    except ValueError:\n",
        "        return valor  # Devolver el valor original si no puede convertirse\n",
        "\n",
        "# Aplicar conversión a las columnas de fechas\n",
        "for col in fecha_columns:\n",
        "    df[col] = df[col].astype(str).apply(convertir_fecha)\n",
        "\n",
        "# Mostrar primeras filas\n",
        "df.head()\n"
      ],
      "metadata": {
        "colab": {
          "base_uri": "https://localhost:8080/",
          "height": 342
        },
        "id": "qAzqYIUTyBDt",
        "outputId": "afa87657-c164-4911-a167-375e5b1b7749"
      },
      "execution_count": 27,
      "outputs": [
        {
          "output_type": "execute_result",
          "data": {
            "text/plain": [
              "   NRO N_DOCUMENTO F_INSPECCION      TIPO_ENTIDAD       REGION  \\\n",
              "0  1.0  6603000090   03/10/2022  ESC. CONDUCTORES     AREQUIPA   \n",
              "1  2.0  6611000159   03/10/2022  ESC. CONDUCTORES        CUSCO   \n",
              "2  3.0  6611000160   03/10/2022  ESC. CONDUCTORES        CUSCO   \n",
              "3  4.0  6601000439   03/10/2022  ESC. CONDUCTORES  LIMA-CALLAO   \n",
              "4  5.0  6614000065   03/10/2022  ESC. CONDUCTORES      HUANUCO   \n",
              "\n",
              "        EXPEDIENTE FECHA_CORTE       FECHA   HORA DEPARTAMENTO  ...  \\\n",
              "0  008908-2022-050  20211222.0  20200101.0   5:40         LIMA  ...   \n",
              "1  008911-2022-050  20211222.0  20200101.0  16:30    CAJAMARCA  ...   \n",
              "2  008912-2022-050  20211222.0  20200101.0   7:45        PASCO  ...   \n",
              "3  008918-2022-050  20211222.0  20200101.0  18:30    CAJAMARCA  ...   \n",
              "4  008921-2022-050  20211222.0  20200101.0  18:40         LIMA  ...   \n",
              "\n",
              "  FECHA_CORTE.1 NRO_DETECCION FECHA_PAPELETA1 REGION.1         CARRETERA.1  \\\n",
              "0    15/10/2021             1      31/10/2019     LIMA  Panamericana Norte   \n",
              "1    15/10/2021             2      31/10/2019     LIMA  Panamericana Norte   \n",
              "2    15/10/2021             3      31/10/2019     LIMA  Panamericana Norte   \n",
              "3    15/10/2021             4      31/10/2019     LIMA  Panamericana Norte   \n",
              "4    15/10/2021             5      31/10/2019     LIMA  Panamericana Norte   \n",
              "\n",
              "        LATITUD.1      LONGITUD.1 LIMITE_VELOCIDAD VELOCIDAD_DETECTADA.1  \\\n",
              "0  -1.145.944.444  -7.731.765.833              100                   127   \n",
              "1     -11.459.275     -77.318.175              100                   117   \n",
              "2  -1.145.931.111  -7.731.791.389              100                   128   \n",
              "3  -1.145.932.778  -7.731.788.333              100                   149   \n",
              "4  -1.145.932.778  -7.731.781.944              100                   122   \n",
              "\n",
              "  FECHA_CORTE.2  \n",
              "0    03/10/2021  \n",
              "1    03/10/2021  \n",
              "2    03/10/2021  \n",
              "3    03/10/2021  \n",
              "4    03/10/2021  \n",
              "\n",
              "[5 rows x 52 columns]"
            ],
            "text/html": [
              "\n",
              "  <div id=\"df-39023d04-6e07-4090-871d-d48670cfacf4\" class=\"colab-df-container\">\n",
              "    <div>\n",
              "<style scoped>\n",
              "    .dataframe tbody tr th:only-of-type {\n",
              "        vertical-align: middle;\n",
              "    }\n",
              "\n",
              "    .dataframe tbody tr th {\n",
              "        vertical-align: top;\n",
              "    }\n",
              "\n",
              "    .dataframe thead th {\n",
              "        text-align: right;\n",
              "    }\n",
              "</style>\n",
              "<table border=\"1\" class=\"dataframe\">\n",
              "  <thead>\n",
              "    <tr style=\"text-align: right;\">\n",
              "      <th></th>\n",
              "      <th>NRO</th>\n",
              "      <th>N_DOCUMENTO</th>\n",
              "      <th>F_INSPECCION</th>\n",
              "      <th>TIPO_ENTIDAD</th>\n",
              "      <th>REGION</th>\n",
              "      <th>EXPEDIENTE</th>\n",
              "      <th>FECHA_CORTE</th>\n",
              "      <th>FECHA</th>\n",
              "      <th>HORA</th>\n",
              "      <th>DEPARTAMENTO</th>\n",
              "      <th>...</th>\n",
              "      <th>FECHA_CORTE.1</th>\n",
              "      <th>NRO_DETECCION</th>\n",
              "      <th>FECHA_PAPELETA1</th>\n",
              "      <th>REGION.1</th>\n",
              "      <th>CARRETERA.1</th>\n",
              "      <th>LATITUD.1</th>\n",
              "      <th>LONGITUD.1</th>\n",
              "      <th>LIMITE_VELOCIDAD</th>\n",
              "      <th>VELOCIDAD_DETECTADA.1</th>\n",
              "      <th>FECHA_CORTE.2</th>\n",
              "    </tr>\n",
              "  </thead>\n",
              "  <tbody>\n",
              "    <tr>\n",
              "      <th>0</th>\n",
              "      <td>1.0</td>\n",
              "      <td>6603000090</td>\n",
              "      <td>03/10/2022</td>\n",
              "      <td>ESC. CONDUCTORES</td>\n",
              "      <td>AREQUIPA</td>\n",
              "      <td>008908-2022-050</td>\n",
              "      <td>20211222.0</td>\n",
              "      <td>20200101.0</td>\n",
              "      <td>5:40</td>\n",
              "      <td>LIMA</td>\n",
              "      <td>...</td>\n",
              "      <td>15/10/2021</td>\n",
              "      <td>1</td>\n",
              "      <td>31/10/2019</td>\n",
              "      <td>LIMA</td>\n",
              "      <td>Panamericana Norte</td>\n",
              "      <td>-1.145.944.444</td>\n",
              "      <td>-7.731.765.833</td>\n",
              "      <td>100</td>\n",
              "      <td>127</td>\n",
              "      <td>03/10/2021</td>\n",
              "    </tr>\n",
              "    <tr>\n",
              "      <th>1</th>\n",
              "      <td>2.0</td>\n",
              "      <td>6611000159</td>\n",
              "      <td>03/10/2022</td>\n",
              "      <td>ESC. CONDUCTORES</td>\n",
              "      <td>CUSCO</td>\n",
              "      <td>008911-2022-050</td>\n",
              "      <td>20211222.0</td>\n",
              "      <td>20200101.0</td>\n",
              "      <td>16:30</td>\n",
              "      <td>CAJAMARCA</td>\n",
              "      <td>...</td>\n",
              "      <td>15/10/2021</td>\n",
              "      <td>2</td>\n",
              "      <td>31/10/2019</td>\n",
              "      <td>LIMA</td>\n",
              "      <td>Panamericana Norte</td>\n",
              "      <td>-11.459.275</td>\n",
              "      <td>-77.318.175</td>\n",
              "      <td>100</td>\n",
              "      <td>117</td>\n",
              "      <td>03/10/2021</td>\n",
              "    </tr>\n",
              "    <tr>\n",
              "      <th>2</th>\n",
              "      <td>3.0</td>\n",
              "      <td>6611000160</td>\n",
              "      <td>03/10/2022</td>\n",
              "      <td>ESC. CONDUCTORES</td>\n",
              "      <td>CUSCO</td>\n",
              "      <td>008912-2022-050</td>\n",
              "      <td>20211222.0</td>\n",
              "      <td>20200101.0</td>\n",
              "      <td>7:45</td>\n",
              "      <td>PASCO</td>\n",
              "      <td>...</td>\n",
              "      <td>15/10/2021</td>\n",
              "      <td>3</td>\n",
              "      <td>31/10/2019</td>\n",
              "      <td>LIMA</td>\n",
              "      <td>Panamericana Norte</td>\n",
              "      <td>-1.145.931.111</td>\n",
              "      <td>-7.731.791.389</td>\n",
              "      <td>100</td>\n",
              "      <td>128</td>\n",
              "      <td>03/10/2021</td>\n",
              "    </tr>\n",
              "    <tr>\n",
              "      <th>3</th>\n",
              "      <td>4.0</td>\n",
              "      <td>6601000439</td>\n",
              "      <td>03/10/2022</td>\n",
              "      <td>ESC. CONDUCTORES</td>\n",
              "      <td>LIMA-CALLAO</td>\n",
              "      <td>008918-2022-050</td>\n",
              "      <td>20211222.0</td>\n",
              "      <td>20200101.0</td>\n",
              "      <td>18:30</td>\n",
              "      <td>CAJAMARCA</td>\n",
              "      <td>...</td>\n",
              "      <td>15/10/2021</td>\n",
              "      <td>4</td>\n",
              "      <td>31/10/2019</td>\n",
              "      <td>LIMA</td>\n",
              "      <td>Panamericana Norte</td>\n",
              "      <td>-1.145.932.778</td>\n",
              "      <td>-7.731.788.333</td>\n",
              "      <td>100</td>\n",
              "      <td>149</td>\n",
              "      <td>03/10/2021</td>\n",
              "    </tr>\n",
              "    <tr>\n",
              "      <th>4</th>\n",
              "      <td>5.0</td>\n",
              "      <td>6614000065</td>\n",
              "      <td>03/10/2022</td>\n",
              "      <td>ESC. CONDUCTORES</td>\n",
              "      <td>HUANUCO</td>\n",
              "      <td>008921-2022-050</td>\n",
              "      <td>20211222.0</td>\n",
              "      <td>20200101.0</td>\n",
              "      <td>18:40</td>\n",
              "      <td>LIMA</td>\n",
              "      <td>...</td>\n",
              "      <td>15/10/2021</td>\n",
              "      <td>5</td>\n",
              "      <td>31/10/2019</td>\n",
              "      <td>LIMA</td>\n",
              "      <td>Panamericana Norte</td>\n",
              "      <td>-1.145.932.778</td>\n",
              "      <td>-7.731.781.944</td>\n",
              "      <td>100</td>\n",
              "      <td>122</td>\n",
              "      <td>03/10/2021</td>\n",
              "    </tr>\n",
              "  </tbody>\n",
              "</table>\n",
              "<p>5 rows × 52 columns</p>\n",
              "</div>\n",
              "    <div class=\"colab-df-buttons\">\n",
              "\n",
              "  <div class=\"colab-df-container\">\n",
              "    <button class=\"colab-df-convert\" onclick=\"convertToInteractive('df-39023d04-6e07-4090-871d-d48670cfacf4')\"\n",
              "            title=\"Convert this dataframe to an interactive table.\"\n",
              "            style=\"display:none;\">\n",
              "\n",
              "  <svg xmlns=\"http://www.w3.org/2000/svg\" height=\"24px\" viewBox=\"0 -960 960 960\">\n",
              "    <path d=\"M120-120v-720h720v720H120Zm60-500h600v-160H180v160Zm220 220h160v-160H400v160Zm0 220h160v-160H400v160ZM180-400h160v-160H180v160Zm440 0h160v-160H620v160ZM180-180h160v-160H180v160Zm440 0h160v-160H620v160Z\"/>\n",
              "  </svg>\n",
              "    </button>\n",
              "\n",
              "  <style>\n",
              "    .colab-df-container {\n",
              "      display:flex;\n",
              "      gap: 12px;\n",
              "    }\n",
              "\n",
              "    .colab-df-convert {\n",
              "      background-color: #E8F0FE;\n",
              "      border: none;\n",
              "      border-radius: 50%;\n",
              "      cursor: pointer;\n",
              "      display: none;\n",
              "      fill: #1967D2;\n",
              "      height: 32px;\n",
              "      padding: 0 0 0 0;\n",
              "      width: 32px;\n",
              "    }\n",
              "\n",
              "    .colab-df-convert:hover {\n",
              "      background-color: #E2EBFA;\n",
              "      box-shadow: 0px 1px 2px rgba(60, 64, 67, 0.3), 0px 1px 3px 1px rgba(60, 64, 67, 0.15);\n",
              "      fill: #174EA6;\n",
              "    }\n",
              "\n",
              "    .colab-df-buttons div {\n",
              "      margin-bottom: 4px;\n",
              "    }\n",
              "\n",
              "    [theme=dark] .colab-df-convert {\n",
              "      background-color: #3B4455;\n",
              "      fill: #D2E3FC;\n",
              "    }\n",
              "\n",
              "    [theme=dark] .colab-df-convert:hover {\n",
              "      background-color: #434B5C;\n",
              "      box-shadow: 0px 1px 3px 1px rgba(0, 0, 0, 0.15);\n",
              "      filter: drop-shadow(0px 1px 2px rgba(0, 0, 0, 0.3));\n",
              "      fill: #FFFFFF;\n",
              "    }\n",
              "  </style>\n",
              "\n",
              "    <script>\n",
              "      const buttonEl =\n",
              "        document.querySelector('#df-39023d04-6e07-4090-871d-d48670cfacf4 button.colab-df-convert');\n",
              "      buttonEl.style.display =\n",
              "        google.colab.kernel.accessAllowed ? 'block' : 'none';\n",
              "\n",
              "      async function convertToInteractive(key) {\n",
              "        const element = document.querySelector('#df-39023d04-6e07-4090-871d-d48670cfacf4');\n",
              "        const dataTable =\n",
              "          await google.colab.kernel.invokeFunction('convertToInteractive',\n",
              "                                                    [key], {});\n",
              "        if (!dataTable) return;\n",
              "\n",
              "        const docLinkHtml = 'Like what you see? Visit the ' +\n",
              "          '<a target=\"_blank\" href=https://colab.research.google.com/notebooks/data_table.ipynb>data table notebook</a>'\n",
              "          + ' to learn more about interactive tables.';\n",
              "        element.innerHTML = '';\n",
              "        dataTable['output_type'] = 'display_data';\n",
              "        await google.colab.output.renderOutput(dataTable, element);\n",
              "        const docLink = document.createElement('div');\n",
              "        docLink.innerHTML = docLinkHtml;\n",
              "        element.appendChild(docLink);\n",
              "      }\n",
              "    </script>\n",
              "  </div>\n",
              "\n",
              "\n",
              "<div id=\"df-702cd40b-49e3-474a-a2b1-8d83e40d90ce\">\n",
              "  <button class=\"colab-df-quickchart\" onclick=\"quickchart('df-702cd40b-49e3-474a-a2b1-8d83e40d90ce')\"\n",
              "            title=\"Suggest charts\"\n",
              "            style=\"display:none;\">\n",
              "\n",
              "<svg xmlns=\"http://www.w3.org/2000/svg\" height=\"24px\"viewBox=\"0 0 24 24\"\n",
              "     width=\"24px\">\n",
              "    <g>\n",
              "        <path d=\"M19 3H5c-1.1 0-2 .9-2 2v14c0 1.1.9 2 2 2h14c1.1 0 2-.9 2-2V5c0-1.1-.9-2-2-2zM9 17H7v-7h2v7zm4 0h-2V7h2v10zm4 0h-2v-4h2v4z\"/>\n",
              "    </g>\n",
              "</svg>\n",
              "  </button>\n",
              "\n",
              "<style>\n",
              "  .colab-df-quickchart {\n",
              "      --bg-color: #E8F0FE;\n",
              "      --fill-color: #1967D2;\n",
              "      --hover-bg-color: #E2EBFA;\n",
              "      --hover-fill-color: #174EA6;\n",
              "      --disabled-fill-color: #AAA;\n",
              "      --disabled-bg-color: #DDD;\n",
              "  }\n",
              "\n",
              "  [theme=dark] .colab-df-quickchart {\n",
              "      --bg-color: #3B4455;\n",
              "      --fill-color: #D2E3FC;\n",
              "      --hover-bg-color: #434B5C;\n",
              "      --hover-fill-color: #FFFFFF;\n",
              "      --disabled-bg-color: #3B4455;\n",
              "      --disabled-fill-color: #666;\n",
              "  }\n",
              "\n",
              "  .colab-df-quickchart {\n",
              "    background-color: var(--bg-color);\n",
              "    border: none;\n",
              "    border-radius: 50%;\n",
              "    cursor: pointer;\n",
              "    display: none;\n",
              "    fill: var(--fill-color);\n",
              "    height: 32px;\n",
              "    padding: 0;\n",
              "    width: 32px;\n",
              "  }\n",
              "\n",
              "  .colab-df-quickchart:hover {\n",
              "    background-color: var(--hover-bg-color);\n",
              "    box-shadow: 0 1px 2px rgba(60, 64, 67, 0.3), 0 1px 3px 1px rgba(60, 64, 67, 0.15);\n",
              "    fill: var(--button-hover-fill-color);\n",
              "  }\n",
              "\n",
              "  .colab-df-quickchart-complete:disabled,\n",
              "  .colab-df-quickchart-complete:disabled:hover {\n",
              "    background-color: var(--disabled-bg-color);\n",
              "    fill: var(--disabled-fill-color);\n",
              "    box-shadow: none;\n",
              "  }\n",
              "\n",
              "  .colab-df-spinner {\n",
              "    border: 2px solid var(--fill-color);\n",
              "    border-color: transparent;\n",
              "    border-bottom-color: var(--fill-color);\n",
              "    animation:\n",
              "      spin 1s steps(1) infinite;\n",
              "  }\n",
              "\n",
              "  @keyframes spin {\n",
              "    0% {\n",
              "      border-color: transparent;\n",
              "      border-bottom-color: var(--fill-color);\n",
              "      border-left-color: var(--fill-color);\n",
              "    }\n",
              "    20% {\n",
              "      border-color: transparent;\n",
              "      border-left-color: var(--fill-color);\n",
              "      border-top-color: var(--fill-color);\n",
              "    }\n",
              "    30% {\n",
              "      border-color: transparent;\n",
              "      border-left-color: var(--fill-color);\n",
              "      border-top-color: var(--fill-color);\n",
              "      border-right-color: var(--fill-color);\n",
              "    }\n",
              "    40% {\n",
              "      border-color: transparent;\n",
              "      border-right-color: var(--fill-color);\n",
              "      border-top-color: var(--fill-color);\n",
              "    }\n",
              "    60% {\n",
              "      border-color: transparent;\n",
              "      border-right-color: var(--fill-color);\n",
              "    }\n",
              "    80% {\n",
              "      border-color: transparent;\n",
              "      border-right-color: var(--fill-color);\n",
              "      border-bottom-color: var(--fill-color);\n",
              "    }\n",
              "    90% {\n",
              "      border-color: transparent;\n",
              "      border-bottom-color: var(--fill-color);\n",
              "    }\n",
              "  }\n",
              "</style>\n",
              "\n",
              "  <script>\n",
              "    async function quickchart(key) {\n",
              "      const quickchartButtonEl =\n",
              "        document.querySelector('#' + key + ' button');\n",
              "      quickchartButtonEl.disabled = true;  // To prevent multiple clicks.\n",
              "      quickchartButtonEl.classList.add('colab-df-spinner');\n",
              "      try {\n",
              "        const charts = await google.colab.kernel.invokeFunction(\n",
              "            'suggestCharts', [key], {});\n",
              "      } catch (error) {\n",
              "        console.error('Error during call to suggestCharts:', error);\n",
              "      }\n",
              "      quickchartButtonEl.classList.remove('colab-df-spinner');\n",
              "      quickchartButtonEl.classList.add('colab-df-quickchart-complete');\n",
              "    }\n",
              "    (() => {\n",
              "      let quickchartButtonEl =\n",
              "        document.querySelector('#df-702cd40b-49e3-474a-a2b1-8d83e40d90ce button');\n",
              "      quickchartButtonEl.style.display =\n",
              "        google.colab.kernel.accessAllowed ? 'block' : 'none';\n",
              "    })();\n",
              "  </script>\n",
              "</div>\n",
              "\n",
              "    </div>\n",
              "  </div>\n"
            ],
            "application/vnd.google.colaboratory.intrinsic+json": {
              "type": "dataframe",
              "variable_name": "df"
            }
          },
          "metadata": {},
          "execution_count": 27
        }
      ]
    },
    {
      "cell_type": "code",
      "source": [
        "df.to_csv(\"/content/datos_combinados_corregidos.csv\", index=False, encoding=\"latin1\")\n",
        "print(\"Archivo guardado correctamente.\")"
      ],
      "metadata": {
        "colab": {
          "base_uri": "https://localhost:8080/"
        },
        "id": "tYsNnmZX94pN",
        "outputId": "7cb89821-c154-4278-f4e7-3feb041c96c4"
      },
      "execution_count": 32,
      "outputs": [
        {
          "output_type": "stream",
          "name": "stdout",
          "text": [
            "Archivo guardado correctamente.\n"
          ]
        }
      ]
    },
    {
      "cell_type": "code",
      "source": [
        "print(df.shape)  # Número de filas y columnas\n",
        "print(df.columns.tolist())  # Lista de nombres de columnas\n",
        "print(df.info())  # Tipo de datos y valores nulos\n",
        "print(df.head())  # Primeras filas del dataset\n",
        "print(df.tail())  # Últimas filas del dataset\n"
      ],
      "metadata": {
        "colab": {
          "base_uri": "https://localhost:8080/"
        },
        "id": "c6csBEEg-Ia2",
        "outputId": "254625b2-9f1b-46ec-b9f9-9068b7e97f16"
      },
      "execution_count": 33,
      "outputs": [
        {
          "output_type": "stream",
          "name": "stdout",
          "text": [
            "(160018, 52)\n",
            "['NRO', 'N_DOCUMENTO', 'F_INSPECCION', 'TIPO_ENTIDAD', 'REGION', 'EXPEDIENTE', 'FECHA_CORTE', 'FECHA', 'HORA', 'DEPARTAMENTO', 'CODIGO_VÍA', 'KILOMETRO', 'MODALIDAD', 'FALLECIDOS', 'HERIDOS', 'FECHA_CORTE1', 'NRO_REPORTE', 'FECHA_ACC', 'HORA_ACC', 'MODALIDAD_ACC', 'CANT_FALLECIDOS', 'CANT_HERIDOS', 'LATITUD', 'LONGITUD', 'PROGRESIVA', 'CODIGO_VIA', 'DEPARTAMENTO.1', 'PROVINCIA', 'DISTRITO', 'ITEM', 'DEPARTAMENTO.2', 'FECHA_PAPELETA', 'VELOCIDAD_FISCALIZADA', 'VELOCIDAD_DETECTADA', 'CARRETERA', 'TIPO DE VEHÍCULO', 'N°', 'UNIDAD_DESCONCENTRADA', 'DIRECCIÓN_DE_UNIDAD_DESCONCENTRADA', 'DISTRITO.1', 'UBIGEO', 'TELÉFONO_FIJO', 'FECHA_CORTE.1', 'NRO_DETECCION', 'FECHA_PAPELETA1', 'REGION.1', 'CARRETERA.1', 'LATITUD.1', 'LONGITUD.1', 'LIMITE_VELOCIDAD', 'VELOCIDAD_DETECTADA.1', 'FECHA_CORTE.2']\n",
            "<class 'pandas.core.frame.DataFrame'>\n",
            "RangeIndex: 160018 entries, 0 to 160017\n",
            "Data columns (total 52 columns):\n",
            " #   Column                              Non-Null Count   Dtype  \n",
            "---  ------                              --------------   -----  \n",
            " 0   NRO                                 886 non-null     float64\n",
            " 1   N_DOCUMENTO                         886 non-null     object \n",
            " 2   F_INSPECCION                        160018 non-null  object \n",
            " 3   TIPO_ENTIDAD                        886 non-null     object \n",
            " 4   REGION                              886 non-null     object \n",
            " 5   EXPEDIENTE                          886 non-null     object \n",
            " 6   FECHA_CORTE                         160018 non-null  object \n",
            " 7   FECHA                               8155 non-null    float64\n",
            " 8   HORA                                8155 non-null    object \n",
            " 9   DEPARTAMENTO                        8155 non-null    object \n",
            " 10  CODIGO_VÍA                          8155 non-null    object \n",
            " 11  KILOMETRO                           8155 non-null    object \n",
            " 12  MODALIDAD                           8155 non-null    object \n",
            " 13  FALLECIDOS                          8155 non-null    object \n",
            " 14  HERIDOS                             8155 non-null    object \n",
            " 15  FECHA_CORTE1                        160018 non-null  object \n",
            " 16  NRO_REPORTE                         3832 non-null    object \n",
            " 17  FECHA_ACC                           160018 non-null  object \n",
            " 18  HORA_ACC                            3832 non-null    object \n",
            " 19  MODALIDAD_ACC                       3832 non-null    object \n",
            " 20  CANT_FALLECIDOS                     3832 non-null    float64\n",
            " 21  CANT_HERIDOS                        3832 non-null    float64\n",
            " 22  LATITUD                             3832 non-null    object \n",
            " 23  LONGITUD                            3832 non-null    object \n",
            " 24  PROGRESIVA                          3752 non-null    object \n",
            " 25  CODIGO_VIA                          3801 non-null    object \n",
            " 26  DEPARTAMENTO.1                      3832 non-null    object \n",
            " 27  PROVINCIA                           3832 non-null    object \n",
            " 28  DISTRITO                            3832 non-null    object \n",
            " 29  ITEM                                103092 non-null  float64\n",
            " 30  DEPARTAMENTO.2                      103092 non-null  object \n",
            " 31  FECHA_PAPELETA                      160018 non-null  object \n",
            " 32  VELOCIDAD_FISCALIZADA               103092 non-null  float64\n",
            " 33  VELOCIDAD_DETECTADA                 103092 non-null  float64\n",
            " 34  CARRETERA                           103092 non-null  object \n",
            " 35  TIPO DE VEHÍCULO                    103092 non-null  object \n",
            " 36  N°                                  22 non-null      float64\n",
            " 37  UNIDAD_DESCONCENTRADA               22 non-null      object \n",
            " 38  DIRECCIÓN_DE_UNIDAD_DESCONCENTRADA  22 non-null      object \n",
            " 39  DISTRITO.1                          22 non-null      object \n",
            " 40  UBIGEO                              22 non-null      float64\n",
            " 41  TELÉFONO_FIJO                       22 non-null      object \n",
            " 42  FECHA_CORTE.1                       22 non-null      object \n",
            " 43  NRO_DETECCION                       160018 non-null  int64  \n",
            " 44  FECHA_PAPELETA1                     160018 non-null  object \n",
            " 45  REGION.1                            160018 non-null  object \n",
            " 46  CARRETERA.1                         160018 non-null  object \n",
            " 47  LATITUD.1                           160018 non-null  object \n",
            " 48  LONGITUD.1                          160018 non-null  object \n",
            " 49  LIMITE_VELOCIDAD                    160018 non-null  int64  \n",
            " 50  VELOCIDAD_DETECTADA.1               160018 non-null  int64  \n",
            " 51  FECHA_CORTE.2                       160018 non-null  object \n",
            "dtypes: float64(9), int64(3), object(40)\n",
            "memory usage: 63.5+ MB\n",
            "None\n",
            "   NRO N_DOCUMENTO F_INSPECCION      TIPO_ENTIDAD       REGION  \\\n",
            "0  1.0  6603000090   03/10/2022  ESC. CONDUCTORES     AREQUIPA   \n",
            "1  2.0  6611000159   03/10/2022  ESC. CONDUCTORES        CUSCO   \n",
            "2  3.0  6611000160   03/10/2022  ESC. CONDUCTORES        CUSCO   \n",
            "3  4.0  6601000439   03/10/2022  ESC. CONDUCTORES  LIMA-CALLAO   \n",
            "4  5.0  6614000065   03/10/2022  ESC. CONDUCTORES      HUANUCO   \n",
            "\n",
            "        EXPEDIENTE FECHA_CORTE       FECHA   HORA DEPARTAMENTO  ...  \\\n",
            "0  008908-2022-050  20211222.0  20200101.0   5:40         LIMA  ...   \n",
            "1  008911-2022-050  20211222.0  20200101.0  16:30    CAJAMARCA  ...   \n",
            "2  008912-2022-050  20211222.0  20200101.0   7:45        PASCO  ...   \n",
            "3  008918-2022-050  20211222.0  20200101.0  18:30    CAJAMARCA  ...   \n",
            "4  008921-2022-050  20211222.0  20200101.0  18:40         LIMA  ...   \n",
            "\n",
            "  FECHA_CORTE.1 NRO_DETECCION FECHA_PAPELETA1 REGION.1         CARRETERA.1  \\\n",
            "0    15/10/2021             1      31/10/2019     LIMA  Panamericana Norte   \n",
            "1    15/10/2021             2      31/10/2019     LIMA  Panamericana Norte   \n",
            "2    15/10/2021             3      31/10/2019     LIMA  Panamericana Norte   \n",
            "3    15/10/2021             4      31/10/2019     LIMA  Panamericana Norte   \n",
            "4    15/10/2021             5      31/10/2019     LIMA  Panamericana Norte   \n",
            "\n",
            "        LATITUD.1      LONGITUD.1 LIMITE_VELOCIDAD VELOCIDAD_DETECTADA.1  \\\n",
            "0  -1.145.944.444  -7.731.765.833              100                   127   \n",
            "1     -11.459.275     -77.318.175              100                   117   \n",
            "2  -1.145.931.111  -7.731.791.389              100                   128   \n",
            "3  -1.145.932.778  -7.731.788.333              100                   149   \n",
            "4  -1.145.932.778  -7.731.781.944              100                   122   \n",
            "\n",
            "  FECHA_CORTE.2  \n",
            "0    03/10/2021  \n",
            "1    03/10/2021  \n",
            "2    03/10/2021  \n",
            "3    03/10/2021  \n",
            "4    03/10/2021  \n",
            "\n",
            "[5 rows x 52 columns]\n",
            "        NRO N_DOCUMENTO F_INSPECCION TIPO_ENTIDAD REGION EXPEDIENTE  \\\n",
            "160013  NaN         NaN          nan          NaN    NaN        NaN   \n",
            "160014  NaN         NaN          nan          NaN    NaN        NaN   \n",
            "160015  NaN         NaN          nan          NaN    NaN        NaN   \n",
            "160016  NaN         NaN          nan          NaN    NaN        NaN   \n",
            "160017  NaN         NaN          nan          NaN    NaN        NaN   \n",
            "\n",
            "       FECHA_CORTE  FECHA HORA DEPARTAMENTO  ... FECHA_CORTE.1 NRO_DETECCION  \\\n",
            "160013         nan    NaN  NaN          NaN  ...           NaN        200111   \n",
            "160014         nan    NaN  NaN          NaN  ...           NaN        200112   \n",
            "160015         nan    NaN  NaN          NaN  ...           NaN        200113   \n",
            "160016         nan    NaN  NaN          NaN  ...           NaN        200114   \n",
            "160017         nan    NaN  NaN          NaN  ...           NaN        200115   \n",
            "\n",
            "       FECHA_PAPELETA1 REGION.1         CARRETERA.1       LATITUD.1  \\\n",
            "160013      03/10/2021     LIMA  Panamericana Norte  -1.144.713.833   \n",
            "160014      03/10/2021   ANCASH  Panamericana Norte  -9.320.794.444   \n",
            "160015      03/10/2021   ANCASH  Panamericana Norte  -9.320.730.556   \n",
            "160016      03/10/2021   ANCASH  Panamericana Norte  -9.320.777.778   \n",
            "160017      03/10/2021   ANCASH  Panamericana Norte  -9.320.777.778   \n",
            "\n",
            "            LONGITUD.1 LIMITE_VELOCIDAD VELOCIDAD_DETECTADA.1 FECHA_CORTE.2  \n",
            "160013  -7.734.561.333               60                   117    03/10/2021  \n",
            "160014  -7.840.575.833               80                   104    03/10/2021  \n",
            "160015  -7.840.576.111               80                   121    03/10/2021  \n",
            "160016  -7.840.571.111               80                   105    03/10/2021  \n",
            "160017  -7.840.571.111               80                    91    03/10/2021  \n",
            "\n",
            "[5 rows x 52 columns]\n"
          ]
        }
      ]
    },
    {
      "cell_type": "code",
      "source": [
        "import pandas as pd\n",
        "import matplotlib.pyplot as plt\n",
        "import seaborn as sns\n",
        "\n",
        "# 📂 Cargar archivo CSV\n",
        "file_path = \"/content/datos_combinados_corregidos.csv\"\n",
        "df = pd.read_csv(file_path, sep=None, engine=\"python\", encoding=\"latin1\")\n",
        "\n",
        "# 🔍 1. Calidad de Datos\n",
        "print(\"\\n🔹 Información General del Dataset:\")\n",
        "print(df.info())  # Ver tipos de datos y valores nulos\n",
        "\n",
        "print(\"\\n🔹 Valores Nulos por Columna:\")\n",
        "print(df.isnull().sum())  # Contar valores nulos\n",
        "\n",
        "print(\"\\n🔹 Columnas Duplicadas (posibles nombres repetidos):\")\n",
        "print(df.columns[df.columns.duplicated()].tolist())  # Ver nombres de columnas duplicados\n",
        "\n",
        "# 🛠 Limpiar nombres de columnas (eliminar espacios en los nombres)\n",
        "df.columns = df.columns.str.strip()\n",
        "\n",
        "# 📅 2. Convertir fechas al formato correcto\n",
        "fecha_columns = [\"F_INSPECCION\", \"FECHA_CORTE\", \"FECHA_CORTE1\", \"FECHA_ACC\", \"FECHA_PAPELETA\", \"FECHA_PAPELETA1\"]\n",
        "\n",
        "def convertir_fecha(valor):\n",
        "    if pd.isna(valor) or valor == \"\":  # Manejo de valores vacíos\n",
        "        return None\n",
        "    try:\n",
        "        return pd.to_datetime(str(valor), format='%Y%m%d').strftime('%d/%m/%Y')\n",
        "    except ValueError:\n",
        "        return valor  # Si falla la conversión, se deja el valor original\n",
        "\n",
        "for col in fecha_columns:\n",
        "    if col in df.columns:\n",
        "        df[col] = df[col].astype(str).apply(convertir_fecha)\n",
        "\n",
        "# 🚦 3. Análisis de Accidentes\n",
        "if \"FECHA_ACC\" in df.columns:\n",
        "    df[\"FECHA_ACC\"] = pd.to_datetime(df[\"FECHA_ACC\"], errors='coerce')  # Convertir fechas\n",
        "    accidentes_por_dia = df[\"FECHA_ACC\"].dt.date.value_counts().sort_index()\n",
        "\n",
        "    plt.figure(figsize=(12, 5))\n",
        "    accidentes_por_dia.plot(kind=\"line\", color=\"red\", title=\"Accidentes por Día\")\n",
        "    plt.xlabel(\"Fecha\")\n",
        "    plt.ylabel(\"Cantidad de Accidentes\")\n",
        "    plt.xticks(rotation=45)\n",
        "    plt.show()\n",
        "\n"
      ],
      "metadata": {
        "colab": {
          "base_uri": "https://localhost:8080/",
          "height": 1000
        },
        "id": "hJsfgt3F-5EV",
        "outputId": "8e350db4-f773-47a1-e939-9bdd2a2426bd"
      },
      "execution_count": 35,
      "outputs": [
        {
          "output_type": "stream",
          "name": "stdout",
          "text": [
            "\n",
            "🔹 Información General del Dataset:\n",
            "<class 'pandas.core.frame.DataFrame'>\n",
            "RangeIndex: 160018 entries, 0 to 160017\n",
            "Data columns (total 52 columns):\n",
            " #   Column                              Non-Null Count   Dtype  \n",
            "---  ------                              --------------   -----  \n",
            " 0   NRO                                 886 non-null     float64\n",
            " 1   N_DOCUMENTO                         886 non-null     object \n",
            " 2   F_INSPECCION                        886 non-null     object \n",
            " 3   TIPO_ENTIDAD                        886 non-null     object \n",
            " 4   REGION                              886 non-null     object \n",
            " 5   EXPEDIENTE                          886 non-null     object \n",
            " 6   FECHA_CORTE                         7569 non-null    float64\n",
            " 7   FECHA                               8155 non-null    float64\n",
            " 8   HORA                                8155 non-null    object \n",
            " 9   DEPARTAMENTO                        8155 non-null    object \n",
            " 10  CODIGO_VÍA                          8155 non-null    object \n",
            " 11  KILOMETRO                           8155 non-null    object \n",
            " 12  MODALIDAD                           8155 non-null    object \n",
            " 13  FALLECIDOS                          8155 non-null    object \n",
            " 14  HERIDOS                             8155 non-null    object \n",
            " 15  FECHA_CORTE1                        3832 non-null    float64\n",
            " 16  NRO_REPORTE                         3832 non-null    object \n",
            " 17  FECHA_ACC                           3832 non-null    float64\n",
            " 18  HORA_ACC                            3832 non-null    object \n",
            " 19  MODALIDAD_ACC                       3832 non-null    object \n",
            " 20  CANT_FALLECIDOS                     3832 non-null    float64\n",
            " 21  CANT_HERIDOS                        3832 non-null    float64\n",
            " 22  LATITUD                             3832 non-null    object \n",
            " 23  LONGITUD                            3832 non-null    object \n",
            " 24  PROGRESIVA                          3752 non-null    object \n",
            " 25  CODIGO_VIA                          3801 non-null    object \n",
            " 26  DEPARTAMENTO.1                      3832 non-null    object \n",
            " 27  PROVINCIA                           3832 non-null    object \n",
            " 28  DISTRITO                            3832 non-null    object \n",
            " 29  ITEM                                103092 non-null  float64\n",
            " 30  DEPARTAMENTO.2                      103092 non-null  object \n",
            " 31  FECHA_PAPELETA                      103092 non-null  object \n",
            " 32  VELOCIDAD_FISCALIZADA               103092 non-null  float64\n",
            " 33  VELOCIDAD_DETECTADA                 103092 non-null  float64\n",
            " 34  CARRETERA                           103092 non-null  object \n",
            " 35  TIPO DE VEHÍCULO                    103092 non-null  object \n",
            " 36  N°                                  22 non-null      float64\n",
            " 37  UNIDAD_DESCONCENTRADA               22 non-null      object \n",
            " 38  DIRECCIÓN_DE_UNIDAD_DESCONCENTRADA  22 non-null      object \n",
            " 39  DISTRITO.1                          22 non-null      object \n",
            " 40  UBIGEO                              22 non-null      float64\n",
            " 41  TELÉFONO_FIJO                       22 non-null      object \n",
            " 42  FECHA_CORTE.1                       22 non-null      object \n",
            " 43  NRO_DETECCION                       160018 non-null  int64  \n",
            " 44  FECHA_PAPELETA1                     160018 non-null  object \n",
            " 45  REGION.1                            160018 non-null  object \n",
            " 46  CARRETERA.1                         160018 non-null  object \n",
            " 47  LATITUD.1                           160018 non-null  object \n",
            " 48  LONGITUD.1                          160018 non-null  object \n",
            " 49  LIMITE_VELOCIDAD                    160018 non-null  int64  \n",
            " 50  VELOCIDAD_DETECTADA.1               160018 non-null  int64  \n",
            " 51  FECHA_CORTE.2                       160018 non-null  object \n",
            "dtypes: float64(12), int64(3), object(37)\n",
            "memory usage: 63.5+ MB\n",
            "None\n",
            "\n",
            "🔹 Valores Nulos por Columna:\n",
            "NRO                                   159132\n",
            "N_DOCUMENTO                           159132\n",
            "F_INSPECCION                          159132\n",
            "TIPO_ENTIDAD                          159132\n",
            "REGION                                159132\n",
            "EXPEDIENTE                            159132\n",
            "FECHA_CORTE                           152449\n",
            "FECHA                                 151863\n",
            "HORA                                  151863\n",
            "DEPARTAMENTO                          151863\n",
            "CODIGO_VÍA                            151863\n",
            "KILOMETRO                             151863\n",
            "MODALIDAD                             151863\n",
            "FALLECIDOS                            151863\n",
            "HERIDOS                               151863\n",
            "FECHA_CORTE1                          156186\n",
            "NRO_REPORTE                           156186\n",
            "FECHA_ACC                             156186\n",
            "HORA_ACC                              156186\n",
            "MODALIDAD_ACC                         156186\n",
            "CANT_FALLECIDOS                       156186\n",
            "CANT_HERIDOS                          156186\n",
            "LATITUD                               156186\n",
            "LONGITUD                              156186\n",
            "PROGRESIVA                            156266\n",
            "CODIGO_VIA                            156217\n",
            "DEPARTAMENTO.1                        156186\n",
            "PROVINCIA                             156186\n",
            "DISTRITO                              156186\n",
            "ITEM                                   56926\n",
            "DEPARTAMENTO.2                         56926\n",
            "FECHA_PAPELETA                         56926\n",
            "VELOCIDAD_FISCALIZADA                  56926\n",
            "VELOCIDAD_DETECTADA                    56926\n",
            "CARRETERA                              56926\n",
            "TIPO DE VEHÍCULO                       56926\n",
            "N°                                    159996\n",
            "UNIDAD_DESCONCENTRADA                 159996\n",
            "DIRECCIÓN_DE_UNIDAD_DESCONCENTRADA    159996\n",
            "DISTRITO.1                            159996\n",
            "UBIGEO                                159996\n",
            "TELÉFONO_FIJO                         159996\n",
            "FECHA_CORTE.1                         159996\n",
            "NRO_DETECCION                              0\n",
            "FECHA_PAPELETA1                            0\n",
            "REGION.1                                   0\n",
            "CARRETERA.1                                0\n",
            "LATITUD.1                                  0\n",
            "LONGITUD.1                                 0\n",
            "LIMITE_VELOCIDAD                           0\n",
            "VELOCIDAD_DETECTADA.1                      0\n",
            "FECHA_CORTE.2                              0\n",
            "dtype: int64\n",
            "\n",
            "🔹 Columnas Duplicadas (posibles nombres repetidos):\n",
            "[]\n"
          ]
        },
        {
          "output_type": "stream",
          "name": "stderr",
          "text": [
            "<ipython-input-35-79bc6de3c0dd>:39: UserWarning: Could not infer format, so each element will be parsed individually, falling back to `dateutil`. To ensure parsing is consistent and as-expected, please specify a format.\n",
            "  df[\"FECHA_ACC\"] = pd.to_datetime(df[\"FECHA_ACC\"], errors='coerce')  # Convertir fechas\n"
          ]
        },
        {
          "output_type": "display_data",
          "data": {
            "text/plain": [
              "<Figure size 1200x500 with 1 Axes>"
            ],
            "image/png": "[encoded data removed]"
          },
          "metadata": {}
        }
      ]
    },
    {
      "cell_type": "code",
      "source": [
        "# ⚠️ 4. Análisis de Fatalidades y Heridos\n",
        "if \"FALLECIDOS\" in df.columns and \"HERIDOS\" in df.columns:\n",
        "    # Convertir las columnas a tipo numérico (ignorar errores para valores no convertibles)\n",
        "    df[\"FALLECIDOS\"] = pd.to_numeric(df[\"FALLECIDOS\"], errors=\"coerce\").fillna(0).astype(int)\n",
        "    df[\"HERIDOS\"] = pd.to_numeric(df[\"HERIDOS\"], errors=\"coerce\").fillna(0).astype(int)\n",
        "\n",
        "    print(\"\\n🔹 Total de Fallecidos:\", df[\"FALLECIDOS\"].sum())\n",
        "    print(\"🔹 Total de Heridos:\", df[\"HERIDOS\"].sum())\n",
        "\n",
        "    # Gráfico de distribución de fatalidades y heridos\n",
        "    import matplotlib.pyplot as plt\n",
        "    import seaborn as sns\n",
        "\n",
        "    plt.figure(figsize=(8, 4))\n",
        "    sns.boxplot(data=df[[\"FALLECIDOS\", \"HERIDOS\"]], palette=\"coolwarm\")\n",
        "    plt.title(\"Distribución de Fallecidos y Heridos\")\n",
        "    plt.show()\n",
        "\n",
        "\n"
      ],
      "metadata": {
        "colab": {
          "base_uri": "https://localhost:8080/",
          "height": 446
        },
        "id": "sMCvNDUj_7Wb",
        "outputId": "bbf9f898-fd91-404d-e0a6-735d9b407e0d"
      },
      "execution_count": 40,
      "outputs": [
        {
          "output_type": "stream",
          "name": "stdout",
          "text": [
            "\n",
            "🔹 Total de Fallecidos: 1377\n",
            "🔹 Total de Heridos: 10671\n"
          ]
        },
        {
          "output_type": "display_data",
          "data": {
            "text/plain": [
              "<Figure size 800x400 with 1 Axes>"
            ],
            "image/png": "[encoded data removed]"
          },
          "metadata": {}
        }
      ]
    },
    {
      "cell_type": "code",
      "source": [
        "# 🌍 5. Ubicación Geográfica de Accidentes\n",
        "import matplotlib.pyplot as plt\n",
        "import seaborn as sns\n",
        "\n",
        "# Asegurar que los datos sean numéricos\n",
        "df[\"LATITUD\"] = pd.to_numeric(df[\"LATITUD\"], errors=\"coerce\")\n",
        "df[\"LONGITUD\"] = pd.to_numeric(df[\"LONGITUD\"], errors=\"coerce\")\n",
        "\n",
        "# Filtrar datos válidos (eliminar NaN)\n",
        "df_map = df.dropna(subset=[\"LATITUD\", \"LONGITUD\"])\n",
        "\n",
        "# Crear gráfico\n",
        "plt.figure(figsize=(12, 8))\n",
        "sns.scatterplot(x=df_map[\"LONGITUD\"], y=df_map[\"LATITUD\"], s=10, alpha=0.7, color=\"blue\", edgecolor=\"black\")\n",
        "\n",
        "# Etiquetas y título\n",
        "plt.xlabel(\"Longitud\", fontsize=12)\n",
        "plt.ylabel(\"Latitud\", fontsize=12)\n",
        "plt.title(\"📍 Mapa de Accidentes\", fontsize=14)\n",
        "\n",
        "# Mejorar visualización\n",
        "plt.xticks(rotation=45)  # Rotar etiquetas del eje X si son muy largas\n",
        "plt.grid(True, linestyle=\"--\", alpha=0.6)  # Agregar cuadrícula sutil\n",
        "\n",
        "# Mostrar gráfico\n",
        "plt.show()\n",
        "\n"
      ],
      "metadata": {
        "colab": {
          "base_uri": "https://localhost:8080/",
          "height": 782
        },
        "id": "A2zIo_LyABSl",
        "outputId": "3d4da260-ddd4-44b8-a382-ecd6ab8928a0"
      },
      "execution_count": 41,
      "outputs": [
        {
          "output_type": "stream",
          "name": "stderr",
          "text": [
            "/usr/local/lib/python3.11/dist-packages/IPython/core/pylabtools.py:151: UserWarning: Glyph 128205 (\\N{ROUND PUSHPIN}) missing from font(s) DejaVu Sans.\n",
            "  fig.canvas.print_figure(bytes_io, **kw)\n"
          ]
        },
        {
          "output_type": "display_data",
          "data": {
            "text/plain": [
              "<Figure size 1200x800 with 1 Axes>"
            ],
            "image/png": "[encoded data removed]"
          },
          "metadata": {}
        }
      ]
    },
    {
      "cell_type": "code",
      "source": [
        "!pip install contextily\n"
      ],
      "metadata": {
        "colab": {
          "base_uri": "https://localhost:8080/"
        },
        "id": "fz_TauFKDQH6",
        "outputId": "3febe16a-4297-44ae-aa54-09f6061f39ed"
      },
      "execution_count": 45,
      "outputs": [
        {
          "output_type": "stream",
          "name": "stdout",
          "text": [
            "Collecting contextily\n",
            "  Downloading contextily-1.6.2-py3-none-any.whl.metadata (2.9 kB)\n",
            "Requirement already satisfied: geopy in /usr/local/lib/python3.11/dist-packages (from contextily) (2.4.1)\n",
            "Requirement already satisfied: matplotlib in /usr/local/lib/python3.11/dist-packages (from contextily) (3.10.0)\n",
            "Collecting mercantile (from contextily)\n",
            "  Downloading mercantile-1.2.1-py3-none-any.whl.metadata (4.8 kB)\n",
            "Requirement already satisfied: pillow in /usr/local/lib/python3.11/dist-packages (from contextily) (11.1.0)\n",
            "Collecting rasterio (from contextily)\n",
            "  Downloading rasterio-1.4.3-cp311-cp311-manylinux_2_17_x86_64.manylinux2014_x86_64.whl.metadata (9.1 kB)\n",
            "Requirement already satisfied: requests in /usr/local/lib/python3.11/dist-packages (from contextily) (2.32.3)\n",
            "Requirement already satisfied: joblib in /usr/local/lib/python3.11/dist-packages (from contextily) (1.4.2)\n",
            "Requirement already satisfied: xyzservices in /usr/local/lib/python3.11/dist-packages (from contextily) (2025.1.0)\n",
            "Requirement already satisfied: geographiclib<3,>=1.52 in /usr/local/lib/python3.11/dist-packages (from geopy->contextily) (2.0)\n",
            "Requirement already satisfied: contourpy>=1.0.1 in /usr/local/lib/python3.11/dist-packages (from matplotlib->contextily) (1.3.1)\n",
            "Requirement already satisfied: cycler>=0.10 in /usr/local/lib/python3.11/dist-packages (from matplotlib->contextily) (0.12.1)\n",
            "Requirement already satisfied: fonttools>=4.22.0 in /usr/local/lib/python3.11/dist-packages (from matplotlib->contextily) (4.56.0)\n",
            "Requirement already satisfied: kiwisolver>=1.3.1 in /usr/local/lib/python3.11/dist-packages (from matplotlib->contextily) (1.4.8)\n",
            "Requirement already satisfied: numpy>=1.23 in /usr/local/lib/python3.11/dist-packages (from matplotlib->contextily) (1.26.4)\n",
            "Requirement already satisfied: packaging>=20.0 in /usr/local/lib/python3.11/dist-packages (from matplotlib->contextily) (24.2)\n",
            "Requirement already satisfied: pyparsing>=2.3.1 in /usr/local/lib/python3.11/dist-packages (from matplotlib->contextily) (3.2.1)\n",
            "Requirement already satisfied: python-dateutil>=2.7 in /usr/local/lib/python3.11/dist-packages (from matplotlib->contextily) (2.8.2)\n",
            "Requirement already satisfied: click>=3.0 in /usr/local/lib/python3.11/dist-packages (from mercantile->contextily) (8.1.8)\n",
            "Collecting affine (from rasterio->contextily)\n",
            "  Downloading affine-2.4.0-py3-none-any.whl.metadata (4.0 kB)\n",
            "Requirement already satisfied: attrs in /usr/local/lib/python3.11/dist-packages (from rasterio->contextily) (25.1.0)\n",
            "Requirement already satisfied: certifi in /usr/local/lib/python3.11/dist-packages (from rasterio->contextily) (2025.1.31)\n",
            "Collecting cligj>=0.5 (from rasterio->contextily)\n",
            "  Downloading cligj-0.7.2-py3-none-any.whl.metadata (5.0 kB)\n",
            "Collecting click-plugins (from rasterio->contextily)\n",
            "  Downloading click_plugins-1.1.1-py2.py3-none-any.whl.metadata (6.4 kB)\n",
            "Requirement already satisfied: charset-normalizer<4,>=2 in /usr/local/lib/python3.11/dist-packages (from requests->contextily) (3.4.1)\n",
            "Requirement already satisfied: idna<4,>=2.5 in /usr/local/lib/python3.11/dist-packages (from requests->contextily) (3.10)\n",
            "Requirement already satisfied: urllib3<3,>=1.21.1 in /usr/local/lib/python3.11/dist-packages (from requests->contextily) (2.3.0)\n",
            "Requirement already satisfied: six>=1.5 in /usr/local/lib/python3.11/dist-packages (from python-dateutil>=2.7->matplotlib->contextily) (1.17.0)\n",
            "Downloading contextily-1.6.2-py3-none-any.whl (17 kB)\n",
            "Downloading mercantile-1.2.1-py3-none-any.whl (14 kB)\n",
            "Downloading rasterio-1.4.3-cp311-cp311-manylinux_2_17_x86_64.manylinux2014_x86_64.whl (22.2 MB)\n",
            "\u001b[2K   \u001b[90m━━━━━━━━━━━━━━━━━━━━━━━━━━━━━━━━━━━━━━━━\u001b[0m \u001b[32m22.2/22.2 MB\u001b[0m \u001b[31m46.0 MB/s\u001b[0m eta \u001b[36m0:00:00\u001b[0m\n",
            "\u001b[?25hDownloading cligj-0.7.2-py3-none-any.whl (7.1 kB)\n",
            "Downloading affine-2.4.0-py3-none-any.whl (15 kB)\n",
            "Downloading click_plugins-1.1.1-py2.py3-none-any.whl (7.5 kB)\n",
            "Installing collected packages: mercantile, cligj, click-plugins, affine, rasterio, contextily\n",
            "Successfully installed affine-2.4.0 click-plugins-1.1.1 cligj-0.7.2 contextily-1.6.2 mercantile-1.2.1 rasterio-1.4.3\n"
          ]
        }
      ]
    },
    {
      "cell_type": "code",
      "source": [
        "!pip install geopandas"
      ],
      "metadata": {
        "colab": {
          "base_uri": "https://localhost:8080/"
        },
        "id": "l4gOg59FDSsC",
        "outputId": "a700e64d-30ec-4317-fb14-477170329e80"
      },
      "execution_count": 46,
      "outputs": [
        {
          "output_type": "stream",
          "name": "stdout",
          "text": [
            "Requirement already satisfied: geopandas in /usr/local/lib/python3.11/dist-packages (1.0.1)\n",
            "Requirement already satisfied: numpy>=1.22 in /usr/local/lib/python3.11/dist-packages (from geopandas) (1.26.4)\n",
            "Requirement already satisfied: pyogrio>=0.7.2 in /usr/local/lib/python3.11/dist-packages (from geopandas) (0.10.0)\n",
            "Requirement already satisfied: packaging in /usr/local/lib/python3.11/dist-packages (from geopandas) (24.2)\n",
            "Requirement already satisfied: pandas>=1.4.0 in /usr/local/lib/python3.11/dist-packages (from geopandas) (2.2.2)\n",
            "Requirement already satisfied: pyproj>=3.3.0 in /usr/local/lib/python3.11/dist-packages (from geopandas) (3.7.1)\n",
            "Requirement already satisfied: shapely>=2.0.0 in /usr/local/lib/python3.11/dist-packages (from geopandas) (2.0.7)\n",
            "Requirement already satisfied: python-dateutil>=2.8.2 in /usr/local/lib/python3.11/dist-packages (from pandas>=1.4.0->geopandas) (2.8.2)\n",
            "Requirement already satisfied: pytz>=2020.1 in /usr/local/lib/python3.11/dist-packages (from pandas>=1.4.0->geopandas) (2025.1)\n",
            "Requirement already satisfied: tzdata>=2022.7 in /usr/local/lib/python3.11/dist-packages (from pandas>=1.4.0->geopandas) (2025.1)\n",
            "Requirement already satisfied: certifi in /usr/local/lib/python3.11/dist-packages (from pyogrio>=0.7.2->geopandas) (2025.1.31)\n",
            "Requirement already satisfied: six>=1.5 in /usr/local/lib/python3.11/dist-packages (from python-dateutil>=2.8.2->pandas>=1.4.0->geopandas) (1.17.0)\n"
          ]
        }
      ]
    },
    {
      "cell_type": "code",
      "source": [
        "import pandas as pd\n",
        "import geopandas as gpd\n",
        "import contextily as ctx\n",
        "import matplotlib.pyplot as plt\n",
        "\n",
        "# Cargar datos (asegúrate de que df tenga columnas 'LATITUD' y 'LONGITUD')\n",
        "df_map = df[[\"LATITUD\", \"LONGITUD\"]].dropna()\n",
        "\n",
        "# Convertir a GeoDataFrame\n",
        "gdf = gpd.GeoDataFrame(df_map, geometry=gpd.points_from_xy(df_map[\"LONGITUD\"], df_map[\"LATITUD\"]), crs=\"EPSG:4326\")\n",
        "\n",
        "# Transformar a coordenadas compatibles con contextily (Web Mercator)\n",
        "gdf = gdf.to_crs(epsg=3857)\n",
        "\n",
        "# Crear figura\n",
        "fig, ax = plt.subplots(figsize=(10, 8))\n",
        "\n",
        "# Graficar los puntos\n",
        "gdf.plot(ax=ax, markersize=10, color=\"red\", alpha=0.6, edgecolor=\"black\")\n",
        "\n",
        "# Agregar mapa base\n",
        "ctx.add_basemap(ax, source=ctx.providers.OpenStreetMap.Mapnik)\n",
        "\n",
        "# Etiquetas\n",
        "ax.set_title(\"Mapa de Accidentes\", fontsize=14)\n",
        "ax.set_xlabel(\"Longitud\")\n",
        "ax.set_ylabel(\"Latitud\")\n",
        "\n",
        "plt.show()\n"
      ],
      "metadata": {
        "colab": {
          "base_uri": "https://localhost:8080/",
          "height": 734
        },
        "id": "kLOwJIONDD95",
        "outputId": "32c33b1d-f1ef-4323-9b51-5b40248ebe29"
      },
      "execution_count": 48,
      "outputs": [
        {
          "output_type": "display_data",
          "data": {
            "text/plain": [
              "<Figure size 1000x800 with 1 Axes>"
            ],
            "image/png": "[encoded data removed]"
          },
          "metadata": {}
        }
      ]
    },
    {
      "cell_type": "code",
      "source": [
        "# 🚗 6. Cumplimiento de Límites de Velocidad\n",
        "if \"VELOCIDAD_DETECTADA\" in df.columns and \"VELOCIDAD_FISCALIZADA\" in df.columns:\n",
        "    df[\"EXCESO_VELOCIDAD\"] = df[\"VELOCIDAD_DETECTADA\"] - df[\"VELOCIDAD_FISCALIZADA\"]\n",
        "\n",
        "    plt.figure(figsize=(8, 4))\n",
        "    sns.histplot(df[\"EXCESO_VELOCIDAD\"], bins=30, kde=True, color=\"orange\")\n",
        "    plt.axvline(0, color='red', linestyle='dashed')  # Línea de referencia\n",
        "    plt.title(\"Distribución del Exceso de Velocidad\")\n",
        "    plt.xlabel(\"Km/h por encima del límite\")\n",
        "    plt.show()\n",
        "\n",
        "    print(\"\\n🔹 Vehículos que excedieron el límite:\", (df[\"EXCESO_VELOCIDAD\"] > 0).sum())\n",
        "\n"
      ],
      "metadata": {
        "colab": {
          "base_uri": "https://localhost:8080/",
          "height": 447
        },
        "id": "JlijBDhiAECL",
        "outputId": "2640477c-1fb9-4d8c-c54e-316e3497a07d"
      },
      "execution_count": 50,
      "outputs": [
        {
          "output_type": "display_data",
          "data": {
            "text/plain": [
              "<Figure size 800x400 with 1 Axes>"
            ],
            "image/png": "[encoded data removed]"
          },
          "metadata": {}
        },
        {
          "output_type": "stream",
          "name": "stdout",
          "text": [
            "\n",
            "🔹 Vehículos que excedieron el límite: 3832\n"
          ]
        }
      ]
    },
    {
      "cell_type": "code",
      "source": [
        "# 📊 7. Inspecciones y Papeletas\n",
        "if \"F_INSPECCION\" in df.columns and \"FECHA_PAPELETA\" in df.columns:\n",
        "    print(\"\\n🔹 Inspecciones realizadas:\", df[\"F_INSPECCION\"].count())\n",
        "    print(\"🔹 Papeletas emitidas:\", df[\"FECHA_PAPELETA\"].count())\n",
        "\n",
        "# 🎯 Guardar el DataFrame procesado\n",
        "df.to_csv(\"datos_procesados.csv\", index=False)\n",
        "print(\"\\n✅ Datos procesados guardados en 'datos_procesados.csv'\")"
      ],
      "metadata": {
        "colab": {
          "base_uri": "https://localhost:8080/"
        },
        "id": "6033oSrNAGIN",
        "outputId": "8b4e39e3-ca54-4b8c-e6a0-9f3a34980524"
      },
      "execution_count": 51,
      "outputs": [
        {
          "output_type": "stream",
          "name": "stdout",
          "text": [
            "\n",
            "🔹 Inspecciones realizadas: 886\n",
            "🔹 Papeletas emitidas: 3832\n",
            "\n",
            "✅ Datos procesados guardados en 'datos_procesados.csv'\n"
          ]
        }
      ]
    },
    {
      "cell_type": "code",
      "source": [
        "df = pd.read_csv(\"datos_procesados.csv\", low_memory=False)\n",
        "\n",
        "# Forzar a que las columnas predictoras sean numéricas (ignorar errores)\n",
        "columnas_predictivas = ['VELOCIDAD_DETECTADA', 'LONGITUD', 'LATITUD']\n",
        "df[columnas_predictivas] = df[columnas_predictivas].apply(pd.to_numeric, errors='coerce')\n",
        "\n",
        "# Eliminar filas con valores no numéricos convertidos a NaN\n",
        "df = df.dropna(subset=columnas_predictivas)\n"
      ],
      "metadata": {
        "id": "TTMYPLIzBuAk"
      },
      "execution_count": 52,
      "outputs": []
    },
    {
      "cell_type": "code",
      "source": [
        "print(df[columnas_predictivas].dtypes)  # Verifica los tipos de datos\n",
        "print(df[columnas_predictivas].head(10))  # Muestra ejemplos de datos\n"
      ],
      "metadata": {
        "colab": {
          "base_uri": "https://localhost:8080/"
        },
        "id": "dAJrsPf4EYvz",
        "outputId": "6d508f8e-4672-4f45-d73a-25d5639be0a8"
      },
      "execution_count": 53,
      "outputs": [
        {
          "output_type": "stream",
          "name": "stdout",
          "text": [
            "VELOCIDAD_DETECTADA    float64\n",
            "LONGITUD               float64\n",
            "LATITUD                float64\n",
            "dtype: object\n",
            "    VELOCIDAD_DETECTADA  LONGITUD  LATITUD\n",
            "12                 90.0   -76.628  -12.714\n",
            "23                 64.0  -749.459 -148.253\n",
            "34                 67.0   -75.877  -13.934\n",
            "44                 82.0   -70.822  -15.708\n",
            "53                 73.0   -76.134  -10.858\n",
            "56                 44.0   -71.871  -16.683\n",
            "57                 48.0  -696.213  -14.733\n",
            "58                 63.0   -76.571  -12.787\n",
            "64                 45.0   -80.613   -5.406\n",
            "68                 63.0   -76.498  -11.895\n"
          ]
        }
      ]
    },
    {
      "cell_type": "code",
      "source": [
        "print(df['ACCIDENTE'].value_counts())\n",
        "\n"
      ],
      "metadata": {
        "colab": {
          "base_uri": "https://localhost:8080/"
        },
        "id": "dWef5oPkEYso",
        "outputId": "38f8f922-de09-4c0c-8a7c-ccae095863a6"
      },
      "execution_count": 55,
      "outputs": [
        {
          "output_type": "stream",
          "name": "stdout",
          "text": [
            "ACCIDENTE\n",
            "0    142\n",
            "Name: count, dtype: int64\n"
          ]
        }
      ]
    },
    {
      "cell_type": "code",
      "source": [
        "print(df['FECHA_ACC'].unique()[:10])  # Muestra los primeros 10 valores únicos\n",
        "print(df['FECHA_ACC'].isna().sum(), \"valores nulos\")\n",
        "print(df['FECHA_ACC'].dtype, \"tipo de dato\")\n"
      ],
      "metadata": {
        "colab": {
          "base_uri": "https://localhost:8080/"
        },
        "id": "5ABqnPAgEYpw",
        "outputId": "229238bf-dd72-4eee-d874-5575bcdbc054"
      },
      "execution_count": 56,
      "outputs": [
        {
          "output_type": "stream",
          "name": "stdout",
          "text": [
            "[nan]\n",
            "142 valores nulos\n",
            "float64 tipo de dato\n"
          ]
        }
      ]
    },
    {
      "cell_type": "code",
      "source": [
        "df = pd.read_csv(\"datos_procesados.csv\", dtype=str)  # Leer como texto para evitar errores\n",
        "print(df.head())  # Ver primeras filas\n"
      ],
      "metadata": {
        "colab": {
          "base_uri": "https://localhost:8080/"
        },
        "id": "_ptbwt9iEYmm",
        "outputId": "c2aafd9b-1157-4bca-95bf-a1a395483b83"
      },
      "execution_count": 57,
      "outputs": [
        {
          "output_type": "stream",
          "name": "stdout",
          "text": [
            "   NRO N_DOCUMENTO F_INSPECCION      TIPO_ENTIDAD       REGION  \\\n",
            "0  1.0  6603000090   03/10/2022  ESC. CONDUCTORES     AREQUIPA   \n",
            "1  2.0  6611000159   03/10/2022  ESC. CONDUCTORES        CUSCO   \n",
            "2  3.0  6611000160   03/10/2022  ESC. CONDUCTORES        CUSCO   \n",
            "3  4.0  6601000439   03/10/2022  ESC. CONDUCTORES  LIMA-CALLAO   \n",
            "4  5.0  6614000065   03/10/2022  ESC. CONDUCTORES      HUANUCO   \n",
            "\n",
            "        EXPEDIENTE FECHA_CORTE       FECHA   HORA DEPARTAMENTO  ...  \\\n",
            "0  008908-2022-050  20211222.0  20200101.0   5:40         LIMA  ...   \n",
            "1  008911-2022-050  20211222.0  20200101.0  16:30    CAJAMARCA  ...   \n",
            "2  008912-2022-050  20211222.0  20200101.0   7:45        PASCO  ...   \n",
            "3  008918-2022-050  20211222.0  20200101.0  18:30    CAJAMARCA  ...   \n",
            "4  008921-2022-050  20211222.0  20200101.0  18:40         LIMA  ...   \n",
            "\n",
            "  FECHA_PAPELETA1 REGION.1         CARRETERA.1       LATITUD.1  \\\n",
            "0      31/10/2019     LIMA  Panamericana Norte  -1.145.944.444   \n",
            "1      31/10/2019     LIMA  Panamericana Norte     -11.459.275   \n",
            "2      31/10/2019     LIMA  Panamericana Norte  -1.145.931.111   \n",
            "3      31/10/2019     LIMA  Panamericana Norte  -1.145.932.778   \n",
            "4      31/10/2019     LIMA  Panamericana Norte  -1.145.932.778   \n",
            "\n",
            "       LONGITUD.1 LIMITE_VELOCIDAD VELOCIDAD_DETECTADA.1 FECHA_CORTE.2  \\\n",
            "0  -7.731.765.833              100                   127    03/10/2021   \n",
            "1     -77.318.175              100                   117    03/10/2021   \n",
            "2  -7.731.791.389              100                   128    03/10/2021   \n",
            "3  -7.731.788.333              100                   149    03/10/2021   \n",
            "4  -7.731.781.944              100                   122    03/10/2021   \n",
            "\n",
            "  EXCESO_VELOCIDAD ACCIDENTE  \n",
            "0             16.0         0  \n",
            "1             29.0         0  \n",
            "2             43.0         0  \n",
            "3             39.0         0  \n",
            "4             52.0         0  \n",
            "\n",
            "[5 rows x 54 columns]\n"
          ]
        }
      ]
    },
    {
      "cell_type": "code",
      "source": [
        "df = pd.read_csv(\"datos_procesados.csv\", parse_dates=['FECHA_ACC'])\n",
        "print(df['FECHA_ACC'].dtype)  # Debe ser datetime64 si las fechas se cargaron bien\n"
      ],
      "metadata": {
        "colab": {
          "base_uri": "https://localhost:8080/"
        },
        "id": "QUcWXbG4EYax",
        "outputId": "3c1f47da-b877-4175-9745-dd74d76c3475"
      },
      "execution_count": 58,
      "outputs": [
        {
          "output_type": "stream",
          "name": "stdout",
          "text": [
            "datetime64[ns]\n"
          ]
        }
      ]
    },
    {
      "cell_type": "code",
      "source": [
        "import numpy as np\n",
        "\n",
        "# Generar 10 filas con accidentes (ACCIDENTE=1)\n",
        "datos_falsos = pd.DataFrame({\n",
        "    'VELOCIDAD_DETECTADA': np.random.randint(40, 120, 10),\n",
        "    'LONGITUD': np.random.uniform(-75, -70, 10),\n",
        "    'LATITUD': np.random.uniform(-10, -5, 10),\n",
        "    'ACCIDENTE': 1\n",
        "})\n",
        "\n",
        "# Agregar los datos falsos al dataframe original\n",
        "df = pd.concat([df, datos_falsos], ignore_index=True)\n",
        "\n",
        "print(df['ACCIDENTE'].value_counts())  # Ahora debe haber al menos algunos '1'\n"
      ],
      "metadata": {
        "colab": {
          "base_uri": "https://localhost:8080/"
        },
        "id": "AB6SDZVgBt-C",
        "outputId": "acf814fa-1212-4d48-f5cb-c5fd1d2a0ae2"
      },
      "execution_count": 59,
      "outputs": [
        {
          "output_type": "stream",
          "name": "stdout",
          "text": [
            "ACCIDENTE\n",
            "0    3832\n",
            "1      10\n",
            "Name: count, dtype: int64\n"
          ]
        }
      ]
    },
    {
      "cell_type": "code",
      "source": [
        "X_train, X_test, y_train, y_test = train_test_split(\n",
        "    X, y, test_size=0.2, random_state=42, stratify=y\n",
        ")\n",
        "print(y_train.value_counts())  # Para verificar que ahora hay 0s"
      ],
      "metadata": {
        "colab": {
          "base_uri": "https://localhost:8080/"
        },
        "id": "Rwn58df_FYiP",
        "outputId": "ed57c018-43df-4b37-ae9a-1e221939402f"
      },
      "execution_count": 64,
      "outputs": [
        {
          "output_type": "stream",
          "name": "stdout",
          "text": [
            "ACCIDENTE\n",
            "0    113\n",
            "Name: count, dtype: int64\n"
          ]
        }
      ]
    },
    {
      "cell_type": "code",
      "source": [
        "print(y_train.value_counts())\n"
      ],
      "metadata": {
        "colab": {
          "base_uri": "https://localhost:8080/"
        },
        "id": "2riUff6cFYcg",
        "outputId": "d6e85895-bbd4-42c9-ea93-0346ab983c41"
      },
      "execution_count": 66,
      "outputs": [
        {
          "output_type": "stream",
          "name": "stdout",
          "text": [
            "ACCIDENTE\n",
            "0    113\n",
            "Name: count, dtype: int64\n"
          ]
        }
      ]
    },
    {
      "cell_type": "code",
      "source": [
        "# Obtener todos los casos de accidentes (1)\n",
        "accidentes = df[df['ACCIDENTE'] == 1]\n",
        "\n",
        "# Obtener una muestra de datos sin accidentes (0), pero en menor cantidad\n",
        "no_accidentes = df[df['ACCIDENTE'] == 0].sample(n=len(accidentes) * 5, random_state=42)\n",
        "\n",
        "# Concatenar ambos\n",
        "df_balanceado = pd.concat([accidentes, no_accidentes])\n",
        "\n",
        "# Repetir la división de datos con la nueva distribución\n",
        "X = df_balanceado[columnas_predictivas]\n",
        "y = df_balanceado[columna_objetivo]\n",
        "\n",
        "X_train, X_test, y_train, y_test = train_test_split(X, y, test_size=0.2, random_state=42, stratify=y)\n",
        "\n",
        "print(y_train.value_counts())  # Ahora debería haber 1s y 0s\n"
      ],
      "metadata": {
        "colab": {
          "base_uri": "https://localhost:8080/"
        },
        "id": "vQlnEK7LFYRY",
        "outputId": "de13a905-e53f-4bff-d7b0-7cad09d578be"
      },
      "execution_count": 67,
      "outputs": [
        {
          "output_type": "stream",
          "name": "stdout",
          "text": [
            "ACCIDENTE\n",
            "0    40\n",
            "1     8\n",
            "Name: count, dtype: int64\n"
          ]
        }
      ]
    },
    {
      "cell_type": "code",
      "source": [
        "from sklearn.model_selection import train_test_split\n",
        "\n",
        "X_train, X_test, y_train, y_test = train_test_split(X, y, test_size=0.2, stratify=y, random_state=42)\n",
        "\n"
      ],
      "metadata": {
        "id": "M2WQq7GeFYHI"
      },
      "execution_count": 70,
      "outputs": []
    },
    {
      "cell_type": "code",
      "source": [
        "print(X_train.dtypes)\n",
        "\n"
      ],
      "metadata": {
        "colab": {
          "base_uri": "https://localhost:8080/"
        },
        "id": "H6zJtdEyGXQ6",
        "outputId": "7ec8f991-b73d-4d33-e195-57a0ea817842"
      },
      "execution_count": 73,
      "outputs": [
        {
          "output_type": "stream",
          "name": "stdout",
          "text": [
            "VELOCIDAD_DETECTADA    float64\n",
            "LONGITUD                object\n",
            "LATITUD                 object\n",
            "dtype: object\n"
          ]
        }
      ]
    },
    {
      "cell_type": "code",
      "source": [
        "# Convertir LONGITUD y LATITUD a float\n",
        "X_train[\"LONGITUD\"] = pd.to_numeric(X_train[\"LONGITUD\"], errors=\"coerce\")\n",
        "X_train[\"LATITUD\"] = pd.to_numeric(X_train[\"LATITUD\"], errors=\"coerce\")\n",
        "\n",
        "X_test[\"LONGITUD\"] = pd.to_numeric(X_test[\"LONGITUD\"], errors=\"coerce\")\n",
        "X_test[\"LATITUD\"] = pd.to_numeric(X_test[\"LATITUD\"], errors=\"coerce\")\n",
        "\n",
        "# Revisar si quedaron valores NaN después de la conversión\n",
        "print(X_train.isna().sum())\n"
      ],
      "metadata": {
        "colab": {
          "base_uri": "https://localhost:8080/"
        },
        "id": "M8ix4rQUGl6B",
        "outputId": "eb8cd18c-4d28-4ce5-90bc-86ec0967ff6b"
      },
      "execution_count": 75,
      "outputs": [
        {
          "output_type": "stream",
          "name": "stdout",
          "text": [
            "VELOCIDAD_DETECTADA     0\n",
            "LONGITUD               38\n",
            "LATITUD                32\n",
            "dtype: int64\n"
          ]
        }
      ]
    },
    {
      "cell_type": "code",
      "source": [
        "X_train.fillna(X_train.median(), inplace=True)\n",
        "X_test.fillna(X_test.median(), inplace=True)\n"
      ],
      "metadata": {
        "id": "5pCg1RXTGtMA"
      },
      "execution_count": 76,
      "outputs": []
    },
    {
      "cell_type": "code",
      "source": [
        "smote = SMOTE(random_state=42)\n",
        "X_train_resampled, y_train_resampled = smote.fit_resample(X_train, y_train)\n",
        "\n",
        "print(y_train_resampled.value_counts())  # Ahora debe estar balanceado\n"
      ],
      "metadata": {
        "colab": {
          "base_uri": "https://localhost:8080/"
        },
        "id": "MtKnNFx5GuZX",
        "outputId": "6f5a8cae-5e3d-48c0-d526-25c3084dea81"
      },
      "execution_count": 77,
      "outputs": [
        {
          "output_type": "stream",
          "name": "stdout",
          "text": [
            "ACCIDENTE\n",
            "0    40\n",
            "1    40\n",
            "Name: count, dtype: int64\n"
          ]
        }
      ]
    },
    {
      "cell_type": "code",
      "source": [
        "# Entrenar el modelo de regresión logística\n",
        "model = LogisticRegression()\n",
        "model.fit(X_train_resampled, y_train_resampled)\n",
        "\n",
        "# Hacer predicciones\n",
        "y_pred = model.predict(X_test)\n",
        "\n",
        "# Evaluar el modelo\n",
        "from sklearn.metrics import classification_report\n",
        "\n",
        "print(classification_report(y_test, y_pred))\n"
      ],
      "metadata": {
        "colab": {
          "base_uri": "https://localhost:8080/"
        },
        "id": "cMMk32X-G2W2",
        "outputId": "2d6619de-493c-45b7-e230-bc3ca6f3369f"
      },
      "execution_count": 78,
      "outputs": [
        {
          "output_type": "stream",
          "name": "stdout",
          "text": [
            "              precision    recall  f1-score   support\n",
            "\n",
            "           0       1.00      0.10      0.18        10\n",
            "           1       0.18      1.00      0.31         2\n",
            "\n",
            "    accuracy                           0.25        12\n",
            "   macro avg       0.59      0.55      0.24        12\n",
            "weighted avg       0.86      0.25      0.20        12\n",
            "\n"
          ]
        }
      ]
    },
    {
      "cell_type": "code",
      "source": [
        "df[\"LONGITUD\"] = pd.to_numeric(df[\"LONGITUD\"], errors=\"coerce\")\n",
        "df[\"LATITUD\"] = pd.to_numeric(df[\"LATITUD\"], errors=\"coerce\")\n"
      ],
      "metadata": {
        "id": "HxPFhAqQG87l"
      },
      "execution_count": 95,
      "outputs": []
    },
    {
      "cell_type": "code",
      "source": [
        "from sklearn.ensemble import RandomForestClassifier\n",
        "\n",
        "model = RandomForestClassifier(n_estimators=100, random_state=42)\n",
        "model.fit(X_train_resampled, y_train_resampled)\n",
        "y_pred = model.predict(X_test)\n"
      ],
      "metadata": {
        "id": "OE0RgTPrHA6p"
      },
      "execution_count": 81,
      "outputs": []
    },
    {
      "cell_type": "code",
      "source": [
        "from sklearn.ensemble import RandomForestClassifier\n",
        "from sklearn.model_selection import GridSearchCV, train_test_split\n",
        "from sklearn.preprocessing import StandardScaler\n",
        "from sklearn.metrics import classification_report\n",
        "\n",
        "# Normalizar los datos\n",
        "scaler = StandardScaler()\n",
        "X_train_resampled = scaler.fit_transform(X_train_resampled)\n",
        "X_test = scaler.transform(X_test)\n",
        "\n",
        "# Definir el modelo\n",
        "model = RandomForestClassifier(random_state=42)\n",
        "\n",
        "# Definir el espacio de hiperparámetros a probar\n",
        "param_grid = {\n",
        "    'n_estimators': [50, 100, 200],  # Número de árboles\n",
        "    'max_depth': [None, 10, 20],  # Profundidad máxima\n",
        "    'min_samples_split': [2, 5, 10],  # Mínimo de muestras para dividir un nodo\n",
        "    'min_samples_leaf': [1, 2, 4]  # Mínimo de muestras en una hoja\n",
        "}\n",
        "\n",
        "# Configurar la búsqueda de hiperparámetros con validación cruzada\n",
        "grid_search = GridSearchCV(model, param_grid, cv=5, scoring='f1', n_jobs=-1, verbose=2)\n",
        "\n",
        "# Entrenar la búsqueda de hiperparámetros\n",
        "grid_search.fit(X_train_resampled, y_train_resampled)\n",
        "\n",
        "# Mejor modelo encontrado\n",
        "best_model = grid_search.best_estimator_\n",
        "\n",
        "# Imprimir mejores hiperparámetros\n",
        "print(\"Mejores hiperparámetros encontrados:\", grid_search.best_params_)\n",
        "\n",
        "# Evaluar en el conjunto de prueba\n",
        "y_pred = best_model.predict(X_test)\n",
        "\n",
        "# Reporte de métricas\n",
        "print(classification_report(y_test, y_pred))\n"
      ],
      "metadata": {
        "colab": {
          "base_uri": "https://localhost:8080/"
        },
        "id": "lDhhBccrHLEm",
        "outputId": "ce5aba2e-e2a6-42b4-8fc2-d93c8fefad07"
      },
      "execution_count": 83,
      "outputs": [
        {
          "output_type": "stream",
          "name": "stdout",
          "text": [
            "Fitting 5 folds for each of 81 candidates, totalling 405 fits\n",
            "Mejores hiperparámetros encontrados: {'max_depth': None, 'min_samples_leaf': 1, 'min_samples_split': 2, 'n_estimators': 50}\n",
            "              precision    recall  f1-score   support\n",
            "\n",
            "           0       1.00      0.10      0.18        10\n",
            "           1       0.18      1.00      0.31         2\n",
            "\n",
            "    accuracy                           0.25        12\n",
            "   macro avg       0.59      0.55      0.24        12\n",
            "weighted avg       0.86      0.25      0.20        12\n",
            "\n"
          ]
        }
      ]
    },
    {
      "cell_type": "code",
      "source": [
        "import pandas as pd\n",
        "\n",
        "# Convertir todas las columnas a numéricas (si es posible)\n",
        "X_train = X_train.apply(pd.to_numeric, errors='coerce')\n",
        "\n",
        "# Verifica si hay valores no convertidos (NaN)\n",
        "print(X_train.dtypes)\n",
        "print(X_train.isna().sum())  # Muestra cuántos valores NaN quedaron\n"
      ],
      "metadata": {
        "colab": {
          "base_uri": "https://localhost:8080/"
        },
        "id": "3kXywH6rIWSK",
        "outputId": "fca6999f-cd70-439d-f5c7-55e7b229210e"
      },
      "execution_count": 88,
      "outputs": [
        {
          "output_type": "stream",
          "name": "stdout",
          "text": [
            "NRO                                   float64\n",
            "N_DOCUMENTO                           float64\n",
            "F_INSPECCION                          float64\n",
            "TIPO_ENTIDAD                          float64\n",
            "REGION                                float64\n",
            "EXPEDIENTE                            float64\n",
            "FECHA_CORTE                           float64\n",
            "FECHA                                 float64\n",
            "HORA                                  float64\n",
            "DEPARTAMENTO                          float64\n",
            "CODIGO_VÍA                            float64\n",
            "KILOMETRO                             float64\n",
            "MODALIDAD                             float64\n",
            "FALLECIDOS                            float64\n",
            "HERIDOS                               float64\n",
            "FECHA_CORTE1                          float64\n",
            "NRO_REPORTE                           float64\n",
            "FECHA_ACC                               int64\n",
            "HORA_ACC                              float64\n",
            "MODALIDAD_ACC                         float64\n",
            "CANT_FALLECIDOS                       float64\n",
            "CANT_HERIDOS                          float64\n",
            "LATITUD                               float64\n",
            "LONGITUD                              float64\n",
            "PROGRESIVA                            float64\n",
            "CODIGO_VIA                            float64\n",
            "DEPARTAMENTO.1                        float64\n",
            "PROVINCIA                             float64\n",
            "DISTRITO                              float64\n",
            "ITEM                                  float64\n",
            "DEPARTAMENTO.2                        float64\n",
            "FECHA_PAPELETA                        float64\n",
            "VELOCIDAD_FISCALIZADA                 float64\n",
            "VELOCIDAD_DETECTADA                   float64\n",
            "CARRETERA                             float64\n",
            "TIPO DE VEHÍCULO                      float64\n",
            "N°                                    float64\n",
            "UNIDAD_DESCONCENTRADA                 float64\n",
            "DIRECCIÓN_DE_UNIDAD_DESCONCENTRADA    float64\n",
            "DISTRITO.1                            float64\n",
            "UBIGEO                                float64\n",
            "TELÉFONO_FIJO                         float64\n",
            "FECHA_CORTE.1                         float64\n",
            "NRO_DETECCION                         float64\n",
            "FECHA_PAPELETA1                       float64\n",
            "REGION.1                              float64\n",
            "CARRETERA.1                           float64\n",
            "LATITUD.1                             float64\n",
            "LONGITUD.1                            float64\n",
            "LIMITE_VELOCIDAD                      float64\n",
            "VELOCIDAD_DETECTADA.1                 float64\n",
            "FECHA_CORTE.2                         float64\n",
            "EXCESO_VELOCIDAD                      float64\n",
            "dtype: object\n",
            "NRO                                   2354\n",
            "N_DOCUMENTO                           2499\n",
            "F_INSPECCION                          3073\n",
            "TIPO_ENTIDAD                          3073\n",
            "REGION                                3073\n",
            "EXPEDIENTE                            3073\n",
            "FECHA_CORTE                            479\n",
            "FECHA                                    8\n",
            "HORA                                  3073\n",
            "DEPARTAMENTO                          3073\n",
            "CODIGO_VÍA                            3073\n",
            "KILOMETRO                               37\n",
            "MODALIDAD                             3073\n",
            "FALLECIDOS                              11\n",
            "HERIDOS                                 16\n",
            "FECHA_CORTE1                             8\n",
            "NRO_REPORTE                           3073\n",
            "FECHA_ACC                                0\n",
            "HORA_ACC                              3073\n",
            "MODALIDAD_ACC                         3073\n",
            "CANT_FALLECIDOS                          8\n",
            "CANT_HERIDOS                             8\n",
            "LATITUD                               2821\n",
            "LONGITUD                              2878\n",
            "PROGRESIVA                            1325\n",
            "CODIGO_VIA                            3073\n",
            "DEPARTAMENTO.1                        3073\n",
            "PROVINCIA                             3073\n",
            "DISTRITO                              3073\n",
            "ITEM                                     8\n",
            "DEPARTAMENTO.2                        3073\n",
            "FECHA_PAPELETA                        3073\n",
            "VELOCIDAD_FISCALIZADA                    8\n",
            "VELOCIDAD_DETECTADA                      0\n",
            "CARRETERA                             3073\n",
            "TIPO DE VEHÍCULO                      3073\n",
            "N°                                    3057\n",
            "UNIDAD_DESCONCENTRADA                 3073\n",
            "DIRECCIÓN_DE_UNIDAD_DESCONCENTRADA    3073\n",
            "DISTRITO.1                            3073\n",
            "UBIGEO                                3057\n",
            "TELÉFONO_FIJO                         3073\n",
            "FECHA_CORTE.1                         3073\n",
            "NRO_DETECCION                            8\n",
            "FECHA_PAPELETA1                       3073\n",
            "REGION.1                              3073\n",
            "CARRETERA.1                           3073\n",
            "LATITUD.1                             2993\n",
            "LONGITUD.1                            2986\n",
            "LIMITE_VELOCIDAD                         8\n",
            "VELOCIDAD_DETECTADA.1                    8\n",
            "FECHA_CORTE.2                         3073\n",
            "EXCESO_VELOCIDAD                         8\n",
            "dtype: int64\n"
          ]
        }
      ]
    },
    {
      "cell_type": "code",
      "source": [
        "import pandas as pd\n",
        "\n",
        "# Intentar convertir TODAS las columnas a numéricas\n",
        "X_train = X_train.apply(pd.to_numeric, errors='coerce')\n",
        "\n",
        "# Verificar cuántos valores faltantes hay después de la conversión\n",
        "print(X_train.isna().sum())\n"
      ],
      "metadata": {
        "colab": {
          "base_uri": "https://localhost:8080/"
        },
        "id": "0m2Ncj00JLqT",
        "outputId": "88f70692-52bc-4474-f7a1-71d1fee6316c"
      },
      "execution_count": 89,
      "outputs": [
        {
          "output_type": "stream",
          "name": "stdout",
          "text": [
            "NRO                                   2354\n",
            "N_DOCUMENTO                           2499\n",
            "F_INSPECCION                          3073\n",
            "TIPO_ENTIDAD                          3073\n",
            "REGION                                3073\n",
            "EXPEDIENTE                            3073\n",
            "FECHA_CORTE                            479\n",
            "FECHA                                    8\n",
            "HORA                                  3073\n",
            "DEPARTAMENTO                          3073\n",
            "CODIGO_VÍA                            3073\n",
            "KILOMETRO                               37\n",
            "MODALIDAD                             3073\n",
            "FALLECIDOS                              11\n",
            "HERIDOS                                 16\n",
            "FECHA_CORTE1                             8\n",
            "NRO_REPORTE                           3073\n",
            "FECHA_ACC                                0\n",
            "HORA_ACC                              3073\n",
            "MODALIDAD_ACC                         3073\n",
            "CANT_FALLECIDOS                          8\n",
            "CANT_HERIDOS                             8\n",
            "LATITUD                               2821\n",
            "LONGITUD                              2878\n",
            "PROGRESIVA                            1325\n",
            "CODIGO_VIA                            3073\n",
            "DEPARTAMENTO.1                        3073\n",
            "PROVINCIA                             3073\n",
            "DISTRITO                              3073\n",
            "ITEM                                     8\n",
            "DEPARTAMENTO.2                        3073\n",
            "FECHA_PAPELETA                        3073\n",
            "VELOCIDAD_FISCALIZADA                    8\n",
            "VELOCIDAD_DETECTADA                      0\n",
            "CARRETERA                             3073\n",
            "TIPO DE VEHÍCULO                      3073\n",
            "N°                                    3057\n",
            "UNIDAD_DESCONCENTRADA                 3073\n",
            "DIRECCIÓN_DE_UNIDAD_DESCONCENTRADA    3073\n",
            "DISTRITO.1                            3073\n",
            "UBIGEO                                3057\n",
            "TELÉFONO_FIJO                         3073\n",
            "FECHA_CORTE.1                         3073\n",
            "NRO_DETECCION                            8\n",
            "FECHA_PAPELETA1                       3073\n",
            "REGION.1                              3073\n",
            "CARRETERA.1                           3073\n",
            "LATITUD.1                             2993\n",
            "LONGITUD.1                            2986\n",
            "LIMITE_VELOCIDAD                         8\n",
            "VELOCIDAD_DETECTADA.1                    8\n",
            "FECHA_CORTE.2                         3073\n",
            "EXCESO_VELOCIDAD                         8\n",
            "dtype: int64\n"
          ]
        }
      ]
    },
    {
      "cell_type": "code",
      "source": [
        "X_train = X_train.dropna(axis=1, thresh=int(0.5 * len(X_train)))\n"
      ],
      "metadata": {
        "id": "6JyW2BOCJOOW"
      },
      "execution_count": 90,
      "outputs": []
    },
    {
      "cell_type": "code",
      "source": [
        "X_train = X_train.fillna(X_train.mean())\n"
      ],
      "metadata": {
        "id": "1Y19FLRNJPZN"
      },
      "execution_count": 91,
      "outputs": []
    },
    {
      "cell_type": "code",
      "source": [
        "X_train = X_train.fillna(X_train.mode().iloc[0])\n"
      ],
      "metadata": {
        "id": "9_Kh7UYFJRIu"
      },
      "execution_count": 92,
      "outputs": []
    },
    {
      "cell_type": "code",
      "source": [
        "y_train = y_train.loc[X_train.index]\n"
      ],
      "metadata": {
        "id": "6wqV40a3JSnl"
      },
      "execution_count": 93,
      "outputs": []
    },
    {
      "cell_type": "code",
      "source": [
        "from imblearn.over_sampling import SMOTE\n",
        "\n",
        "smote = SMOTE(random_state=42)\n",
        "X_train_resampled, y_train_resampled = smote.fit_resample(X_train, y_train)\n",
        "\n",
        "print(y_train_resampled.value_counts())  # Verificar balance de clases\n"
      ],
      "metadata": {
        "colab": {
          "base_uri": "https://localhost:8080/"
        },
        "id": "SiqJeWHLJUGu",
        "outputId": "5a32f603-5109-4c5b-ba48-5b4c6a2fb5b4"
      },
      "execution_count": 98,
      "outputs": [
        {
          "output_type": "stream",
          "name": "stdout",
          "text": [
            "ACCIDENTE\n",
            "0    3065\n",
            "1    3065\n",
            "Name: count, dtype: int64\n"
          ]
        }
      ]
    },
    {
      "cell_type": "code",
      "source": [
        "# Asegurar que X_test tenga las mismas columnas que X_train_resampled\n",
        "X_test = X_test[X_train_resampled.columns]\n"
      ],
      "metadata": {
        "id": "5l9gsMSXJ1hv"
      },
      "execution_count": 103,
      "outputs": []
    },
    {
      "cell_type": "code",
      "source": [
        "import numpy as np\n",
        "\n",
        "# Reemplazar 'N.I.' y otros valores problemáticos con NaN\n",
        "X_test.replace('N.I.', np.nan, inplace=True)\n",
        "\n",
        "# Si hay más valores extraños, agrégalos aquí:\n",
        "# X_test.replace(['OtroValorProblemático1', 'OtroValorProblemático2'], np.nan, inplace=True)\n"
      ],
      "metadata": {
        "id": "7fFAIq56KDpj"
      },
      "execution_count": 105,
      "outputs": []
    },
    {
      "cell_type": "code",
      "source": [
        "X_test = X_test.apply(pd.to_numeric, errors='coerce')\n"
      ],
      "metadata": {
        "id": "u16qcczuKFFm"
      },
      "execution_count": 106,
      "outputs": []
    },
    {
      "cell_type": "code",
      "source": [
        "X_test.fillna(X_test.mean(), inplace=True)\n"
      ],
      "metadata": {
        "id": "meEcyxehKHuT"
      },
      "execution_count": 107,
      "outputs": []
    },
    {
      "cell_type": "code",
      "source": [
        "X_test.dropna(inplace=True)\n"
      ],
      "metadata": {
        "id": "WS47v2r4KKVF"
      },
      "execution_count": 108,
      "outputs": []
    },
    {
      "cell_type": "code",
      "source": [
        "y_pred = modelo.predict(X_test)\n",
        "print(classification_report(y_test, y_pred))\n"
      ],
      "metadata": {
        "colab": {
          "base_uri": "https://localhost:8080/"
        },
        "id": "1dYXOSIEKR5F",
        "outputId": "0345e40b-2ea7-449f-c10e-13e13e0bb52a"
      },
      "execution_count": 109,
      "outputs": [
        {
          "output_type": "stream",
          "name": "stdout",
          "text": [
            "              precision    recall  f1-score   support\n",
            "\n",
            "           0       1.00      1.00      1.00       767\n",
            "           1       0.00      0.00      0.00         2\n",
            "\n",
            "    accuracy                           1.00       769\n",
            "   macro avg       0.50      0.50      0.50       769\n",
            "weighted avg       0.99      1.00      1.00       769\n",
            "\n"
          ]
        },
        {
          "output_type": "stream",
          "name": "stderr",
          "text": [
            "/usr/local/lib/python3.11/dist-packages/sklearn/metrics/_classification.py:1565: UndefinedMetricWarning: Precision is ill-defined and being set to 0.0 in labels with no predicted samples. Use `zero_division` parameter to control this behavior.\n",
            "  _warn_prf(average, modifier, f\"{metric.capitalize()} is\", len(result))\n",
            "/usr/local/lib/python3.11/dist-packages/sklearn/metrics/_classification.py:1565: UndefinedMetricWarning: Precision is ill-defined and being set to 0.0 in labels with no predicted samples. Use `zero_division` parameter to control this behavior.\n",
            "  _warn_prf(average, modifier, f\"{metric.capitalize()} is\", len(result))\n",
            "/usr/local/lib/python3.11/dist-packages/sklearn/metrics/_classification.py:1565: UndefinedMetricWarning: Precision is ill-defined and being set to 0.0 in labels with no predicted samples. Use `zero_division` parameter to control this behavior.\n",
            "  _warn_prf(average, modifier, f\"{metric.capitalize()} is\", len(result))\n"
          ]
        }
      ]
    },
    {
      "cell_type": "markdown",
      "source": [],
      "metadata": {
        "id": "sxNlyL7fKRfG"
      }
    },
    {
      "cell_type": "code",
      "source": [
        "print(y_train.value_counts())\n"
      ],
      "metadata": {
        "colab": {
          "base_uri": "https://localhost:8080/"
        },
        "id": "yiuFKDqCKbKY",
        "outputId": "277ce4e3-0523-4a3d-c80e-7f04831e247a"
      },
      "execution_count": 110,
      "outputs": [
        {
          "output_type": "stream",
          "name": "stdout",
          "text": [
            "ACCIDENTE\n",
            "0    3065\n",
            "1       8\n",
            "Name: count, dtype: int64\n"
          ]
        }
      ]
    },
    {
      "cell_type": "code",
      "source": [
        "from imblearn.over_sampling import SMOTE\n",
        "\n",
        "smote = SMOTE(random_state=42)\n",
        "X_train_bal, y_train_bal = smote.fit_resample(X_train, y_train)\n",
        "\n",
        "print(y_train_bal.value_counts())  # Verifica que ambas clases tengan igual cantidad\n"
      ],
      "metadata": {
        "colab": {
          "base_uri": "https://localhost:8080/"
        },
        "id": "moMFa15qKdSU",
        "outputId": "c1995919-877e-46f1-f570-25ce785b9e33"
      },
      "execution_count": 111,
      "outputs": [
        {
          "output_type": "stream",
          "name": "stdout",
          "text": [
            "ACCIDENTE\n",
            "0    3065\n",
            "1    3065\n",
            "Name: count, dtype: int64\n"
          ]
        }
      ]
    },
    {
      "cell_type": "code",
      "source": [
        "from imblearn.under_sampling import RandomUnderSampler\n",
        "\n",
        "rus = RandomUnderSampler(random_state=42)\n",
        "X_train_bal, y_train_bal = rus.fit_resample(X_train, y_train)\n"
      ],
      "metadata": {
        "id": "1p3Aii2hKgNl"
      },
      "execution_count": 112,
      "outputs": []
    },
    {
      "cell_type": "code",
      "source": [
        "y_prob = modelo.predict_proba(X_test)[:, 1]  # Probabilidad de clase 1\n",
        "y_pred = (y_prob > 0.3).astype(int)  # Reducir umbral a 30%\n",
        "\n",
        "print(classification_report(y_test, y_pred))\n"
      ],
      "metadata": {
        "colab": {
          "base_uri": "https://localhost:8080/"
        },
        "id": "yp3rD8paKkTO",
        "outputId": "46c8fc10-c35f-47b1-d6d6-06ae8d922508"
      },
      "execution_count": 113,
      "outputs": [
        {
          "output_type": "stream",
          "name": "stdout",
          "text": [
            "              precision    recall  f1-score   support\n",
            "\n",
            "           0       1.00      1.00      1.00       767\n",
            "           1       1.00      1.00      1.00         2\n",
            "\n",
            "    accuracy                           1.00       769\n",
            "   macro avg       1.00      1.00      1.00       769\n",
            "weighted avg       1.00      1.00      1.00       769\n",
            "\n"
          ]
        }
      ]
    },
    {
      "cell_type": "code",
      "source": [
        "from sklearn.ensemble import RandomForestClassifier\n",
        "\n",
        "modelo = RandomForestClassifier(n_estimators=100, class_weight='balanced', random_state=42)\n",
        "modelo.fit(X_train, y_train)\n"
      ],
      "metadata": {
        "colab": {
          "base_uri": "https://localhost:8080/",
          "height": 80
        },
        "id": "JMIcjWSvKpXD",
        "outputId": "84f3bb5c-7c5e-4765-8fe5-dc51ff18fd15"
      },
      "execution_count": 114,
      "outputs": [
        {
          "output_type": "execute_result",
          "data": {
            "text/plain": [
              "RandomForestClassifier(class_weight='balanced', random_state=42)"
            ],
            "text/html": [
              "<style>#sk-container-id-1 {\n",
              "  /* Definition of color scheme common for light and dark mode */\n",
              "  --sklearn-color-text: #000;\n",
              "  --sklearn-color-text-muted: #666;\n",
              "  --sklearn-color-line: gray;\n",
              "  /* Definition of color scheme for unfitted estimators */\n",
              "  --sklearn-color-unfitted-level-0: #fff5e6;\n",
              "  --sklearn-color-unfitted-level-1: #f6e4d2;\n",
              "  --sklearn-color-unfitted-level-2: #ffe0b3;\n",
              "  --sklearn-color-unfitted-level-3: chocolate;\n",
              "  /* Definition of color scheme for fitted estimators */\n",
              "  --sklearn-color-fitted-level-0: #f0f8ff;\n",
              "  --sklearn-color-fitted-level-1: #d4ebff;\n",
              "  --sklearn-color-fitted-level-2: #b3dbfd;\n",
              "  --sklearn-color-fitted-level-3: cornflowerblue;\n",
              "\n",
              "  /* Specific color for light theme */\n",
              "  --sklearn-color-text-on-default-background: var(--sg-text-color, var(--theme-code-foreground, var(--jp-content-font-color1, black)));\n",
              "  --sklearn-color-background: var(--sg-background-color, var(--theme-background, var(--jp-layout-color0, white)));\n",
              "  --sklearn-color-border-box: var(--sg-text-color, var(--theme-code-foreground, var(--jp-content-font-color1, black)));\n",
              "  --sklearn-color-icon: #696969;\n",
              "\n",
              "  @media (prefers-color-scheme: dark) {\n",
              "    /* Redefinition of color scheme for dark theme */\n",
              "    --sklearn-color-text-on-default-background: var(--sg-text-color, var(--theme-code-foreground, var(--jp-content-font-color1, white)));\n",
              "    --sklearn-color-background: var(--sg-background-color, var(--theme-background, var(--jp-layout-color0, #111)));\n",
              "    --sklearn-color-border-box: var(--sg-text-color, var(--theme-code-foreground, var(--jp-content-font-color1, white)));\n",
              "    --sklearn-color-icon: #878787;\n",
              "  }\n",
              "}\n",
              "\n",
              "#sk-container-id-1 {\n",
              "  color: var(--sklearn-color-text);\n",
              "}\n",
              "\n",
              "#sk-container-id-1 pre {\n",
              "  padding: 0;\n",
              "}\n",
              "\n",
              "#sk-container-id-1 input.sk-hidden--visually {\n",
              "  border: 0;\n",
              "  clip: rect(1px 1px 1px 1px);\n",
              "  clip: rect(1px, 1px, 1px, 1px);\n",
              "  height: 1px;\n",
              "  margin: -1px;\n",
              "  overflow: hidden;\n",
              "  padding: 0;\n",
              "  position: absolute;\n",
              "  width: 1px;\n",
              "}\n",
              "\n",
              "#sk-container-id-1 div.sk-dashed-wrapped {\n",
              "  border: 1px dashed var(--sklearn-color-line);\n",
              "  margin: 0 0.4em 0.5em 0.4em;\n",
              "  box-sizing: border-box;\n",
              "  padding-bottom: 0.4em;\n",
              "  background-color: var(--sklearn-color-background);\n",
              "}\n",
              "\n",
              "#sk-container-id-1 div.sk-container {\n",
              "  /* jupyter's `normalize.less` sets `[hidden] { display: none; }`\n",
              "     but bootstrap.min.css set `[hidden] { display: none !important; }`\n",
              "     so we also need the `!important` here to be able to override the\n",
              "     default hidden behavior on the sphinx rendered scikit-learn.org.\n",
              "     See: https://github.com/scikit-learn/scikit-learn/issues/21755 */\n",
              "  display: inline-block !important;\n",
              "  position: relative;\n",
              "}\n",
              "\n",
              "#sk-container-id-1 div.sk-text-repr-fallback {\n",
              "  display: none;\n",
              "}\n",
              "\n",
              "div.sk-parallel-item,\n",
              "div.sk-serial,\n",
              "div.sk-item {\n",
              "  /* draw centered vertical line to link estimators */\n",
              "  background-image: linear-gradient(var(--sklearn-color-text-on-default-background), var(--sklearn-color-text-on-default-background));\n",
              "  background-size: 2px 100%;\n",
              "  background-repeat: no-repeat;\n",
              "  background-position: center center;\n",
              "}\n",
              "\n",
              "/* Parallel-specific style estimator block */\n",
              "\n",
              "#sk-container-id-1 div.sk-parallel-item::after {\n",
              "  content: \"\";\n",
              "  width: 100%;\n",
              "  border-bottom: 2px solid var(--sklearn-color-text-on-default-background);\n",
              "  flex-grow: 1;\n",
              "}\n",
              "\n",
              "#sk-container-id-1 div.sk-parallel {\n",
              "  display: flex;\n",
              "  align-items: stretch;\n",
              "  justify-content: center;\n",
              "  background-color: var(--sklearn-color-background);\n",
              "  position: relative;\n",
              "}\n",
              "\n",
              "#sk-container-id-1 div.sk-parallel-item {\n",
              "  display: flex;\n",
              "  flex-direction: column;\n",
              "}\n",
              "\n",
              "#sk-container-id-1 div.sk-parallel-item:first-child::after {\n",
              "  align-self: flex-end;\n",
              "  width: 50%;\n",
              "}\n",
              "\n",
              "#sk-container-id-1 div.sk-parallel-item:last-child::after {\n",
              "  align-self: flex-start;\n",
              "  width: 50%;\n",
              "}\n",
              "\n",
              "#sk-container-id-1 div.sk-parallel-item:only-child::after {\n",
              "  width: 0;\n",
              "}\n",
              "\n",
              "/* Serial-specific style estimator block */\n",
              "\n",
              "#sk-container-id-1 div.sk-serial {\n",
              "  display: flex;\n",
              "  flex-direction: column;\n",
              "  align-items: center;\n",
              "  background-color: var(--sklearn-color-background);\n",
              "  padding-right: 1em;\n",
              "  padding-left: 1em;\n",
              "}\n",
              "\n",
              "\n",
              "/* Toggleable style: style used for estimator/Pipeline/ColumnTransformer box that is\n",
              "clickable and can be expanded/collapsed.\n",
              "- Pipeline and ColumnTransformer use this feature and define the default style\n",
              "- Estimators will overwrite some part of the style using the `sk-estimator` class\n",
              "*/\n",
              "\n",
              "/* Pipeline and ColumnTransformer style (default) */\n",
              "\n",
              "#sk-container-id-1 div.sk-toggleable {\n",
              "  /* Default theme specific background. It is overwritten whether we have a\n",
              "  specific estimator or a Pipeline/ColumnTransformer */\n",
              "  background-color: var(--sklearn-color-background);\n",
              "}\n",
              "\n",
              "/* Toggleable label */\n",
              "#sk-container-id-1 label.sk-toggleable__label {\n",
              "  cursor: pointer;\n",
              "  display: flex;\n",
              "  width: 100%;\n",
              "  margin-bottom: 0;\n",
              "  padding: 0.5em;\n",
              "  box-sizing: border-box;\n",
              "  text-align: center;\n",
              "  align-items: start;\n",
              "  justify-content: space-between;\n",
              "  gap: 0.5em;\n",
              "}\n",
              "\n",
              "#sk-container-id-1 label.sk-toggleable__label .caption {\n",
              "  font-size: 0.6rem;\n",
              "  font-weight: lighter;\n",
              "  color: var(--sklearn-color-text-muted);\n",
              "}\n",
              "\n",
              "#sk-container-id-1 label.sk-toggleable__label-arrow:before {\n",
              "  /* Arrow on the left of the label */\n",
              "  content: \"▸\";\n",
              "  float: left;\n",
              "  margin-right: 0.25em;\n",
              "  color: var(--sklearn-color-icon);\n",
              "}\n",
              "\n",
              "#sk-container-id-1 label.sk-toggleable__label-arrow:hover:before {\n",
              "  color: var(--sklearn-color-text);\n",
              "}\n",
              "\n",
              "/* Toggleable content - dropdown */\n",
              "\n",
              "#sk-container-id-1 div.sk-toggleable__content {\n",
              "  max-height: 0;\n",
              "  max-width: 0;\n",
              "  overflow: hidden;\n",
              "  text-align: left;\n",
              "  /* unfitted */\n",
              "  background-color: var(--sklearn-color-unfitted-level-0);\n",
              "}\n",
              "\n",
              "#sk-container-id-1 div.sk-toggleable__content.fitted {\n",
              "  /* fitted */\n",
              "  background-color: var(--sklearn-color-fitted-level-0);\n",
              "}\n",
              "\n",
              "#sk-container-id-1 div.sk-toggleable__content pre {\n",
              "  margin: 0.2em;\n",
              "  border-radius: 0.25em;\n",
              "  color: var(--sklearn-color-text);\n",
              "  /* unfitted */\n",
              "  background-color: var(--sklearn-color-unfitted-level-0);\n",
              "}\n",
              "\n",
              "#sk-container-id-1 div.sk-toggleable__content.fitted pre {\n",
              "  /* unfitted */\n",
              "  background-color: var(--sklearn-color-fitted-level-0);\n",
              "}\n",
              "\n",
              "#sk-container-id-1 input.sk-toggleable__control:checked~div.sk-toggleable__content {\n",
              "  /* Expand drop-down */\n",
              "  max-height: 200px;\n",
              "  max-width: 100%;\n",
              "  overflow: auto;\n",
              "}\n",
              "\n",
              "#sk-container-id-1 input.sk-toggleable__control:checked~label.sk-toggleable__label-arrow:before {\n",
              "  content: \"▾\";\n",
              "}\n",
              "\n",
              "/* Pipeline/ColumnTransformer-specific style */\n",
              "\n",
              "#sk-container-id-1 div.sk-label input.sk-toggleable__control:checked~label.sk-toggleable__label {\n",
              "  color: var(--sklearn-color-text);\n",
              "  background-color: var(--sklearn-color-unfitted-level-2);\n",
              "}\n",
              "\n",
              "#sk-container-id-1 div.sk-label.fitted input.sk-toggleable__control:checked~label.sk-toggleable__label {\n",
              "  background-color: var(--sklearn-color-fitted-level-2);\n",
              "}\n",
              "\n",
              "/* Estimator-specific style */\n",
              "\n",
              "/* Colorize estimator box */\n",
              "#sk-container-id-1 div.sk-estimator input.sk-toggleable__control:checked~label.sk-toggleable__label {\n",
              "  /* unfitted */\n",
              "  background-color: var(--sklearn-color-unfitted-level-2);\n",
              "}\n",
              "\n",
              "#sk-container-id-1 div.sk-estimator.fitted input.sk-toggleable__control:checked~label.sk-toggleable__label {\n",
              "  /* fitted */\n",
              "  background-color: var(--sklearn-color-fitted-level-2);\n",
              "}\n",
              "\n",
              "#sk-container-id-1 div.sk-label label.sk-toggleable__label,\n",
              "#sk-container-id-1 div.sk-label label {\n",
              "  /* The background is the default theme color */\n",
              "  color: var(--sklearn-color-text-on-default-background);\n",
              "}\n",
              "\n",
              "/* On hover, darken the color of the background */\n",
              "#sk-container-id-1 div.sk-label:hover label.sk-toggleable__label {\n",
              "  color: var(--sklearn-color-text);\n",
              "  background-color: var(--sklearn-color-unfitted-level-2);\n",
              "}\n",
              "\n",
              "/* Label box, darken color on hover, fitted */\n",
              "#sk-container-id-1 div.sk-label.fitted:hover label.sk-toggleable__label.fitted {\n",
              "  color: var(--sklearn-color-text);\n",
              "  background-color: var(--sklearn-color-fitted-level-2);\n",
              "}\n",
              "\n",
              "/* Estimator label */\n",
              "\n",
              "#sk-container-id-1 div.sk-label label {\n",
              "  font-family: monospace;\n",
              "  font-weight: bold;\n",
              "  display: inline-block;\n",
              "  line-height: 1.2em;\n",
              "}\n",
              "\n",
              "#sk-container-id-1 div.sk-label-container {\n",
              "  text-align: center;\n",
              "}\n",
              "\n",
              "/* Estimator-specific */\n",
              "#sk-container-id-1 div.sk-estimator {\n",
              "  font-family: monospace;\n",
              "  border: 1px dotted var(--sklearn-color-border-box);\n",
              "  border-radius: 0.25em;\n",
              "  box-sizing: border-box;\n",
              "  margin-bottom: 0.5em;\n",
              "  /* unfitted */\n",
              "  background-color: var(--sklearn-color-unfitted-level-0);\n",
              "}\n",
              "\n",
              "#sk-container-id-1 div.sk-estimator.fitted {\n",
              "  /* fitted */\n",
              "  background-color: var(--sklearn-color-fitted-level-0);\n",
              "}\n",
              "\n",
              "/* on hover */\n",
              "#sk-container-id-1 div.sk-estimator:hover {\n",
              "  /* unfitted */\n",
              "  background-color: var(--sklearn-color-unfitted-level-2);\n",
              "}\n",
              "\n",
              "#sk-container-id-1 div.sk-estimator.fitted:hover {\n",
              "  /* fitted */\n",
              "  background-color: var(--sklearn-color-fitted-level-2);\n",
              "}\n",
              "\n",
              "/* Specification for estimator info (e.g. \"i\" and \"?\") */\n",
              "\n",
              "/* Common style for \"i\" and \"?\" */\n",
              "\n",
              ".sk-estimator-doc-link,\n",
              "a:link.sk-estimator-doc-link,\n",
              "a:visited.sk-estimator-doc-link {\n",
              "  float: right;\n",
              "  font-size: smaller;\n",
              "  line-height: 1em;\n",
              "  font-family: monospace;\n",
              "  background-color: var(--sklearn-color-background);\n",
              "  border-radius: 1em;\n",
              "  height: 1em;\n",
              "  width: 1em;\n",
              "  text-decoration: none !important;\n",
              "  margin-left: 0.5em;\n",
              "  text-align: center;\n",
              "  /* unfitted */\n",
              "  border: var(--sklearn-color-unfitted-level-1) 1pt solid;\n",
              "  color: var(--sklearn-color-unfitted-level-1);\n",
              "}\n",
              "\n",
              ".sk-estimator-doc-link.fitted,\n",
              "a:link.sk-estimator-doc-link.fitted,\n",
              "a:visited.sk-estimator-doc-link.fitted {\n",
              "  /* fitted */\n",
              "  border: var(--sklearn-color-fitted-level-1) 1pt solid;\n",
              "  color: var(--sklearn-color-fitted-level-1);\n",
              "}\n",
              "\n",
              "/* On hover */\n",
              "div.sk-estimator:hover .sk-estimator-doc-link:hover,\n",
              ".sk-estimator-doc-link:hover,\n",
              "div.sk-label-container:hover .sk-estimator-doc-link:hover,\n",
              ".sk-estimator-doc-link:hover {\n",
              "  /* unfitted */\n",
              "  background-color: var(--sklearn-color-unfitted-level-3);\n",
              "  color: var(--sklearn-color-background);\n",
              "  text-decoration: none;\n",
              "}\n",
              "\n",
              "div.sk-estimator.fitted:hover .sk-estimator-doc-link.fitted:hover,\n",
              ".sk-estimator-doc-link.fitted:hover,\n",
              "div.sk-label-container:hover .sk-estimator-doc-link.fitted:hover,\n",
              ".sk-estimator-doc-link.fitted:hover {\n",
              "  /* fitted */\n",
              "  background-color: var(--sklearn-color-fitted-level-3);\n",
              "  color: var(--sklearn-color-background);\n",
              "  text-decoration: none;\n",
              "}\n",
              "\n",
              "/* Span, style for the box shown on hovering the info icon */\n",
              ".sk-estimator-doc-link span {\n",
              "  display: none;\n",
              "  z-index: 9999;\n",
              "  position: relative;\n",
              "  font-weight: normal;\n",
              "  right: .2ex;\n",
              "  padding: .5ex;\n",
              "  margin: .5ex;\n",
              "  width: min-content;\n",
              "  min-width: 20ex;\n",
              "  max-width: 50ex;\n",
              "  color: var(--sklearn-color-text);\n",
              "  box-shadow: 2pt 2pt 4pt #999;\n",
              "  /* unfitted */\n",
              "  background: var(--sklearn-color-unfitted-level-0);\n",
              "  border: .5pt solid var(--sklearn-color-unfitted-level-3);\n",
              "}\n",
              "\n",
              ".sk-estimator-doc-link.fitted span {\n",
              "  /* fitted */\n",
              "  background: var(--sklearn-color-fitted-level-0);\n",
              "  border: var(--sklearn-color-fitted-level-3);\n",
              "}\n",
              "\n",
              ".sk-estimator-doc-link:hover span {\n",
              "  display: block;\n",
              "}\n",
              "\n",
              "/* \"?\"-specific style due to the `<a>` HTML tag */\n",
              "\n",
              "#sk-container-id-1 a.estimator_doc_link {\n",
              "  float: right;\n",
              "  font-size: 1rem;\n",
              "  line-height: 1em;\n",
              "  font-family: monospace;\n",
              "  background-color: var(--sklearn-color-background);\n",
              "  border-radius: 1rem;\n",
              "  height: 1rem;\n",
              "  width: 1rem;\n",
              "  text-decoration: none;\n",
              "  /* unfitted */\n",
              "  color: var(--sklearn-color-unfitted-level-1);\n",
              "  border: var(--sklearn-color-unfitted-level-1) 1pt solid;\n",
              "}\n",
              "\n",
              "#sk-container-id-1 a.estimator_doc_link.fitted {\n",
              "  /* fitted */\n",
              "  border: var(--sklearn-color-fitted-level-1) 1pt solid;\n",
              "  color: var(--sklearn-color-fitted-level-1);\n",
              "}\n",
              "\n",
              "/* On hover */\n",
              "#sk-container-id-1 a.estimator_doc_link:hover {\n",
              "  /* unfitted */\n",
              "  background-color: var(--sklearn-color-unfitted-level-3);\n",
              "  color: var(--sklearn-color-background);\n",
              "  text-decoration: none;\n",
              "}\n",
              "\n",
              "#sk-container-id-1 a.estimator_doc_link.fitted:hover {\n",
              "  /* fitted */\n",
              "  background-color: var(--sklearn-color-fitted-level-3);\n",
              "}\n",
              "</style><div id=\"sk-container-id-1\" class=\"sk-top-container\"><div class=\"sk-text-repr-fallback\"><pre>RandomForestClassifier(class_weight=&#x27;balanced&#x27;, random_state=42)</pre><b>In a Jupyter environment, please rerun this cell to show the HTML representation or trust the notebook. <br />On GitHub, the HTML representation is unable to render, please try loading this page with nbviewer.org.</b></div><div class=\"sk-container\" hidden><div class=\"sk-item\"><div class=\"sk-estimator fitted sk-toggleable\"><input class=\"sk-toggleable__control sk-hidden--visually\" id=\"sk-estimator-id-1\" type=\"checkbox\" checked><label for=\"sk-estimator-id-1\" class=\"sk-toggleable__label fitted sk-toggleable__label-arrow\"><div><div>RandomForestClassifier</div></div><div><a class=\"sk-estimator-doc-link fitted\" rel=\"noreferrer\" target=\"_blank\" href=\"https://scikit-learn.org/1.6/modules/generated/sklearn.ensemble.RandomForestClassifier.html\">?<span>Documentation for RandomForestClassifier</span></a><span class=\"sk-estimator-doc-link fitted\">i<span>Fitted</span></span></div></label><div class=\"sk-toggleable__content fitted\"><pre>RandomForestClassifier(class_weight=&#x27;balanced&#x27;, random_state=42)</pre></div> </div></div></div></div>"
            ]
          },
          "metadata": {},
          "execution_count": 114
        }
      ]
    },
    {
      "cell_type": "code",
      "source": [
        "import numpy as np\n",
        "import matplotlib.pyplot as plt\n",
        "import seaborn as sns\n",
        "from sklearn.metrics import confusion_matrix, roc_curve, auc, classification_report\n",
        "\n",
        "# 1️⃣ Matriz de Confusión\n",
        "def plot_confusion_matrix(y_test, y_pred):\n",
        "    cm = confusion_matrix(y_test, y_pred)\n",
        "    plt.figure(figsize=(5,4))\n",
        "    sns.heatmap(cm, annot=True, fmt=\"d\", cmap=\"Blues\", xticklabels=[\"No Accidente\", \"Accidente\"], yticklabels=[\"No Accidente\", \"Accidente\"])\n",
        "    plt.xlabel(\"Predicho\")\n",
        "    plt.ylabel(\"Real\")\n",
        "    plt.title(\"Matriz de Confusión\")\n",
        "    plt.show()"
      ],
      "metadata": {
        "id": "XTJyXKPyKpJ1"
      },
      "execution_count": 115,
      "outputs": []
    },
    {
      "cell_type": "code",
      "source": [
        "# 2️⃣ Curva ROC y AUC\n",
        "def plot_roc_curve(y_test, y_prob):\n",
        "    fpr, tpr, _ = roc_curve(y_test, y_prob)\n",
        "    roc_auc = auc(fpr, tpr)\n",
        "\n",
        "    plt.figure(figsize=(6,5))\n",
        "    plt.plot(fpr, tpr, color=\"blue\", label=f\"AUC = {roc_auc:.2f}\")\n",
        "    plt.plot([0, 1], [0, 1], color=\"gray\", linestyle=\"--\")\n",
        "    plt.xlabel(\"FPR (Tasa de Falsos Positivos)\")\n",
        "    plt.ylabel(\"TPR (Tasa de Verdaderos Positivos)\")\n",
        "    plt.title(\"Curva ROC\")\n",
        "    plt.legend()\n",
        "    plt.show()\n",
        "\n",
        "# 3️⃣ Distribución de Probabilidades\n",
        "def plot_probability_distribution(y_test, y_prob):\n",
        "    plt.figure(figsize=(6,4))\n",
        "    sns.histplot(y_prob[y_test == 0], bins=30, color=\"blue\", label=\"No Accidente\", alpha=0.6)\n",
        "    sns.histplot(y_prob[y_test == 1], bins=30, color=\"red\", label=\"Accidente\", alpha=0.6)\n",
        "    plt.axvline(0.3, color=\"black\", linestyle=\"--\", label=\"Umbral 0.3\")\n",
        "    plt.xlabel(\"Probabilidad Predicha\")\n",
        "    plt.ylabel(\"Frecuencia\")\n",
        "    plt.title(\"Distribución de Probabilidades\")\n",
        "    plt.legend()\n",
        "    plt.show()\n",
        "\n",
        "# Ejecutar los gráficos\n",
        "plot_confusion_matrix(y_test, y_pred)\n",
        "plot_roc_curve(y_test, y_prob)\n",
        "plot_probability_distribution(y_test, y_prob)"
      ],
      "metadata": {
        "colab": {
          "base_uri": "https://localhost:8080/",
          "height": 1000
        },
        "id": "mEDFCjRTLaeO",
        "outputId": "8707ebfe-52a1-407b-9e60-31f26ec39ad1"
      },
      "execution_count": 116,
      "outputs": [
        {
          "output_type": "display_data",
          "data": {
            "text/plain": [
              "<Figure size 500x400 with 2 Axes>"
            ],
            "image/png": "[encoded data removed]"
          },
          "metadata": {}
        },
        {
          "output_type": "display_data",
          "data": {
            "text/plain": [
              "<Figure size 600x500 with 1 Axes>"
            ],
            "image/png": "[encoded data removed]"
          },
          "metadata": {}
        },
        {
          "output_type": "display_data",
          "data": {
            "text/plain": [
              "<Figure size 600x400 with 1 Axes>"
            ],
            "image/png": "[encoded data removed]"
          },
          "metadata": {}
        }
      ]
    }
  ]
}